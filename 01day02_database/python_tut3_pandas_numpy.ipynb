{
 "cells": [
  {
   "cell_type": "markdown",
   "metadata": {},
   "source": [
    "<a name=\"top\"></a>\n",
    "# Python Workshop 3\n",
    "We will look at [NumPy](http://www.numpy.org/) and [Pandas](https://pandas.pydata.org/), which are two of the most popular packages for data analysts these days.\n",
    "\n",
    "* [NumPy](#numpy) is the homogeneous multidimensional array, which is perfect for predictive analysis.\n",
    "* [Pandas](#pandas) provides an easy-to-use data structures, which is great for handling data."
   ]
  },
  {
   "cell_type": "markdown",
   "metadata": {},
   "source": [
    "-----\n",
    "<a name=\"numpy\"></a>\n",
    "## NumPy\n",
    "NumPy’s main object is the homogeneous multidimensional array (a N-dimensional hypervolume whose elements, usually numbers, are all of the same type). NumPy’s array class is called `ndarray`. Here we will cover:\n",
    "* Array Creation\n",
    "* Basic Operations\n",
    "* Indexing, Slicing and Iterating\n",
    "* Shape Manipulation\n",
    "* Copies\n",
    "\n",
    "More details [here](https://docs.scipy.org/doc/numpy-1.15.1/user/quickstart.html).\n",
    "\n",
    "### Array Creation\n",
    "First, we need to create the `ndarray`. There are several ways to create arrays."
   ]
  },
  {
   "cell_type": "code",
   "execution_count": 1,
   "metadata": {},
   "outputs": [
    {
     "name": "stdout",
     "output_type": "stream",
     "text": [
      "a=[2 3 4]\n",
      "type=<class 'numpy.ndarray'>\n",
      "b= [1.2 3.5 5.1]\n",
      "c= [[0. 0. 0. 0.]\n",
      " [0. 0. 0. 0.]]\n",
      "d= [[[1. 1. 1. 1.]\n",
      "  [1. 1. 1. 1.]\n",
      "  [1. 1. 1. 1.]]\n",
      "\n",
      " [[1. 1. 1. 1.]\n",
      "  [1. 1. 1. 1.]\n",
      "  [1. 1. 1. 1.]]]\n",
      "e= [[ 7.48462372e-157  6.90955252e-310  6.90952868e-310]\n",
      " [-6.63948296e+042  6.90955252e-310  6.90952868e-310]]\n"
     ]
    }
   ],
   "source": [
    "import numpy as np\n",
    "a = np.array([2,3,4])\n",
    "print('a={}\\ntype={}'.format(a, type(a)))\n",
    "b = np.array([1.2, 3.5, 5.1])\n",
    "print('b=',b)\n",
    "c = np.zeros((2,4))\n",
    "print('c=',c)\n",
    "d = np.ones((2,3,4))\n",
    "print('d=',d)\n",
    "e = np.empty((2,3))\n",
    "print('e=',e)"
   ]
  },
  {
   "cell_type": "markdown",
   "metadata": {},
   "source": [
    "Notice how NumPy displays array (in NumPy dimensions are called axes):\n",
    "* The last axis is printed from left to right,\n",
    "* The second-to-last is printed from top to bottom,\n",
    "* The rest are also printed from top to bottom, with each slice separated from the next by an empty line.\n",
    "\n",
    "You can create sequences of numbers as well"
   ]
  },
  {
   "cell_type": "code",
   "execution_count": 2,
   "metadata": {},
   "outputs": [
    {
     "name": "stdout",
     "output_type": "stream",
     "text": [
      "arange= [10 15 20 25]\n",
      "linspace= [0.   0.25 0.5  0.75 1.   1.25 1.5  1.75 2.  ]\n",
      "random= [[0.31564847 0.15635778 0.87617335 0.16654728]\n",
      " [0.12224166 0.37367313 0.43230783 0.40583853]\n",
      " [0.77670007 0.84093839 0.52490493 0.59152527]]\n"
     ]
    }
   ],
   "source": [
    "f = np.arange(10, 30, 5)\n",
    "print('arange=', f)\n",
    "g = np.linspace(0, 2, 9)\n",
    "print('linspace=', g)\n",
    "h = np.random.random((3,4))\n",
    "print('random=', h)"
   ]
  },
  {
   "cell_type": "markdown",
   "metadata": {},
   "source": [
    "`ndarray` has a number of attributes."
   ]
  },
  {
   "cell_type": "code",
   "execution_count": 3,
   "metadata": {},
   "outputs": [
    {
     "name": "stdout",
     "output_type": "stream",
     "text": [
      "a= [2 3 4]\n",
      "a.ndim= 1\n",
      "a.shape= (3,)\n",
      "a.size= 3\n",
      "a.dtype= int64\n"
     ]
    }
   ],
   "source": [
    "print('a=',a)\n",
    "print('a.ndim=',a.ndim)\n",
    "print('a.shape=',a.shape)\n",
    "print('a.size=',a.size)\n",
    "print('a.dtype=',a.dtype)"
   ]
  },
  {
   "cell_type": "markdown",
   "metadata": {},
   "source": [
    "### Basic Operations\n",
    "Arithmetic operators on arrays apply elementwise."
   ]
  },
  {
   "cell_type": "code",
   "execution_count": 4,
   "metadata": {},
   "outputs": [
    {
     "name": "stdout",
     "output_type": "stream",
     "text": [
      "a= [2 3 4]\n",
      "b= [1.2 3.5 5.1]\n",
      "a-b= [ 0.8 -0.5 -1.1]\n"
     ]
    }
   ],
   "source": [
    "print('a=',a)\n",
    "print('b=',b)\n",
    "print('a-b=',a-b)"
   ]
  },
  {
   "cell_type": "code",
   "execution_count": 5,
   "metadata": {},
   "outputs": [
    {
     "name": "stdout",
     "output_type": "stream",
     "text": [
      "[ 4  9 16]\n",
      "[1.41421356 1.73205081 2.        ]\n",
      "[False  True  True]\n"
     ]
    }
   ],
   "source": [
    "print(a**2)\n",
    "print(np.sqrt(a))\n",
    "print(b>3)"
   ]
  },
  {
   "cell_type": "markdown",
   "metadata": {},
   "source": [
    "Many unary operations, such as the sum of all the elements in the array, are implemented as methods of the `ndarray` class."
   ]
  },
  {
   "cell_type": "code",
   "execution_count": 6,
   "metadata": {},
   "outputs": [
    {
     "name": "stdout",
     "output_type": "stream",
     "text": [
      "9\n",
      "3.0\n",
      "0.816496580927726\n",
      "2 4\n"
     ]
    }
   ],
   "source": [
    "print(a.sum())\n",
    "print(a.mean())\n",
    "print(a.std())\n",
    "print(a.min(), a.max())"
   ]
  },
  {
   "cell_type": "markdown",
   "metadata": {},
   "source": [
    "### Indexing, Slicing and Iterating\n",
    "**Indexing** and **slicing** are similar to list. Multidimensional arrays can have one index per axis. These indices are given in a tuple separated by commas:"
   ]
  },
  {
   "cell_type": "code",
   "execution_count": 7,
   "metadata": {},
   "outputs": [
    {
     "name": "stdout",
     "output_type": "stream",
     "text": [
      "a= [2 3 4]\n",
      "a[1]= 3\n",
      "a[1:]= [3 4]\n"
     ]
    }
   ],
   "source": [
    "print('a=',a)\n",
    "print('a[1]=',a[1])\n",
    "print('a[1:]=',a[1:])"
   ]
  },
  {
   "cell_type": "code",
   "execution_count": 8,
   "metadata": {},
   "outputs": [
    {
     "name": "stdout",
     "output_type": "stream",
     "text": [
      "e= [[ 7.48462372e-157  6.90955252e-310  6.90952868e-310]\n",
      " [-6.63948296e+042  6.90955252e-310  6.90952868e-310]]\n",
      "e[0,1]= 6.90955251618815e-310\n",
      "e[:,1]= [6.90955252e-310 6.90955252e-310]\n",
      "e[0,0:2]= [7.48462372e-157 6.90955252e-310]\n"
     ]
    }
   ],
   "source": [
    "print('e=',e)\n",
    "print('e[0,1]=',e[0,1])\n",
    "print('e[:,1]=',e[:,1])\n",
    "print('e[0,0:2]=',e[0,0:2])"
   ]
  },
  {
   "cell_type": "markdown",
   "metadata": {},
   "source": [
    "When fewer indices are provided than the number of axes, the missing indices are considered complete slices."
   ]
  },
  {
   "cell_type": "code",
   "execution_count": 9,
   "metadata": {},
   "outputs": [
    {
     "name": "stdout",
     "output_type": "stream",
     "text": [
      "d= [[[1. 1. 1. 1.]\n",
      "  [1. 1. 1. 1.]\n",
      "  [1. 1. 1. 1.]]\n",
      "\n",
      " [[1. 1. 1. 1.]\n",
      "  [1. 1. 1. 1.]\n",
      "  [1. 1. 1. 1.]]]\n",
      "d[1]= [[1. 1. 1. 1.]\n",
      " [1. 1. 1. 1.]\n",
      " [1. 1. 1. 1.]]\n",
      "d[...,3]= [[1. 1. 1.]\n",
      " [1. 1. 1.]]\n"
     ]
    }
   ],
   "source": [
    "print('d=',d)\n",
    "print('d[1]=',d[1])\n",
    "print('d[...,3]=', d[...,3])"
   ]
  },
  {
   "cell_type": "markdown",
   "metadata": {},
   "source": [
    "**Iterating** over multidimensional arrays is done with respect to the first axis:"
   ]
  },
  {
   "cell_type": "code",
   "execution_count": 10,
   "metadata": {},
   "outputs": [
    {
     "name": "stdout",
     "output_type": "stream",
     "text": [
      "row= [7.48462372e-157 6.90955252e-310 6.90952868e-310]\n",
      "row= [-6.63948296e+042  6.90955252e-310  6.90952868e-310]\n"
     ]
    }
   ],
   "source": [
    "for row in e:\n",
    "    print('row=',row)"
   ]
  },
  {
   "cell_type": "markdown",
   "metadata": {},
   "source": [
    "### Shape Manipulation\n",
    "You can change the shape of an array."
   ]
  },
  {
   "cell_type": "code",
   "execution_count": 11,
   "metadata": {},
   "outputs": [
    {
     "name": "stdout",
     "output_type": "stream",
     "text": [
      "h= [[0.31564847 0.15635778 0.87617335 0.16654728]\n",
      " [0.12224166 0.37367313 0.43230783 0.40583853]\n",
      " [0.77670007 0.84093839 0.52490493 0.59152527]]\n",
      "(3, 4)\n"
     ]
    }
   ],
   "source": [
    "print('h=',h)\n",
    "print(h.shape)"
   ]
  },
  {
   "cell_type": "code",
   "execution_count": 12,
   "metadata": {},
   "outputs": [
    {
     "name": "stdout",
     "output_type": "stream",
     "text": [
      "reshape= [[0.31564847 0.15635778]\n",
      " [0.87617335 0.16654728]\n",
      " [0.12224166 0.37367313]\n",
      " [0.43230783 0.40583853]\n",
      " [0.77670007 0.84093839]\n",
      " [0.52490493 0.59152527]]\n"
     ]
    }
   ],
   "source": [
    "print('reshape=',h.reshape(6,2))"
   ]
  },
  {
   "cell_type": "code",
   "execution_count": 13,
   "metadata": {},
   "outputs": [
    {
     "name": "stdout",
     "output_type": "stream",
     "text": [
      "transpose= [[0.31564847 0.12224166 0.77670007]\n",
      " [0.15635778 0.37367313 0.84093839]\n",
      " [0.87617335 0.43230783 0.52490493]\n",
      " [0.16654728 0.40583853 0.59152527]]\n"
     ]
    }
   ],
   "source": [
    "print('transpose=',h.T)"
   ]
  },
  {
   "cell_type": "markdown",
   "metadata": {},
   "source": [
    "### Copies\n",
    "**No Copy at All** (passing-by-reference): Simple assignments make no copy of array objects or of their data."
   ]
  },
  {
   "cell_type": "code",
   "execution_count": 14,
   "metadata": {},
   "outputs": [
    {
     "name": "stdout",
     "output_type": "stream",
     "text": [
      "a= [ 0  1  2  3  4  5  6  7  8  9 10 11]\n",
      "True\n",
      "a= [100   1   2   3   4   5   6   7   8   9  10  11]\n"
     ]
    }
   ],
   "source": [
    "a = np.arange(12)\n",
    "b = a\n",
    "print('a=',a)\n",
    "print(b is a)\n",
    "b[0] = 100\n",
    "print('a=',a)"
   ]
  },
  {
   "cell_type": "markdown",
   "metadata": {},
   "source": [
    "**Deep Copy** (passing-by-value): The `copy` method makes a complete copy of the array and its data."
   ]
  },
  {
   "cell_type": "code",
   "execution_count": 15,
   "metadata": {},
   "outputs": [
    {
     "name": "stdout",
     "output_type": "stream",
     "text": [
      "False\n",
      "a= [100   1   2   3   4   5   6   7   8   9  10  11]\n",
      "d= [50  1  2  3  4  5  6  7  8  9 10 11]\n"
     ]
    }
   ],
   "source": [
    "d = a.copy()\n",
    "print(d is a)\n",
    "d[0] = 50\n",
    "print('a=',a)\n",
    "print('d=',d)"
   ]
  },
  {
   "cell_type": "markdown",
   "metadata": {},
   "source": [
    "[[top](#top)]\n",
    "\n",
    "----"
   ]
  },
  {
   "cell_type": "markdown",
   "metadata": {},
   "source": [
    "## <a name=\"pandas\"></a> Pandas\n",
    "pandas is an open source, BSD-licensed library providing high-performance, easy-to-use data structures and data analysis tools for the Python programming language.\n",
    "\n",
    "Pandas handles data through\n",
    "* Series for 1D data\n",
    "* Data Frame for 2D data"
   ]
  },
  {
   "cell_type": "markdown",
   "metadata": {},
   "source": [
    "### Series\n",
    "Series is a one-dimensional labeled array capable of holding data of any type (integer, string, float, python objects, etc.)."
   ]
  },
  {
   "cell_type": "code",
   "execution_count": 16,
   "metadata": {},
   "outputs": [
    {
     "data": {
      "text/plain": [
       "0      1\n",
       "1      3\n",
       "2      5\n",
       "3    str\n",
       "4    6.1\n",
       "dtype: object"
      ]
     },
     "execution_count": 16,
     "metadata": {},
     "output_type": "execute_result"
    }
   ],
   "source": [
    "import pandas as pd\n",
    "s = pd.Series([1,3,5,'str',6.1])\n",
    "s"
   ]
  },
  {
   "cell_type": "code",
   "execution_count": 17,
   "metadata": {},
   "outputs": [
    {
     "data": {
      "text/plain": [
       "0    0\n",
       "1    1\n",
       "2    2\n",
       "dtype: int64"
      ]
     },
     "execution_count": 17,
     "metadata": {},
     "output_type": "execute_result"
    }
   ],
   "source": [
    "s = pd.Series(range(3))\n",
    "s"
   ]
  },
  {
   "cell_type": "markdown",
   "metadata": {},
   "source": [
    "### DataFrame\n",
    "A Data frame is a 2D data structure, where data is aligned in a tabular fashion in rows and columns."
   ]
  },
  {
   "cell_type": "code",
   "execution_count": 18,
   "metadata": {},
   "outputs": [
    {
     "name": "stdout",
     "output_type": "stream",
     "text": [
      "          A         B         C         D\n",
      "0 -0.831024 -0.424219  0.673681  0.155314\n",
      "1 -0.031966 -0.151838  0.163245  2.802225\n",
      "2 -2.091403  0.568633 -0.409543  0.411693\n"
     ]
    }
   ],
   "source": [
    "df1 = pd.DataFrame(np.random.randn(3,4), columns=['A','B','C','D'])\n",
    "print(df1)"
   ]
  },
  {
   "cell_type": "code",
   "execution_count": 19,
   "metadata": {},
   "outputs": [
    {
     "data": {
      "text/html": [
       "<div>\n",
       "<style scoped>\n",
       "    .dataframe tbody tr th:only-of-type {\n",
       "        vertical-align: middle;\n",
       "    }\n",
       "\n",
       "    .dataframe tbody tr th {\n",
       "        vertical-align: top;\n",
       "    }\n",
       "\n",
       "    .dataframe thead th {\n",
       "        text-align: right;\n",
       "    }\n",
       "</style>\n",
       "<table border=\"1\" class=\"dataframe\">\n",
       "  <thead>\n",
       "    <tr style=\"text-align: right;\">\n",
       "      <th></th>\n",
       "      <th>A</th>\n",
       "      <th>B</th>\n",
       "      <th>C</th>\n",
       "      <th>D</th>\n",
       "    </tr>\n",
       "  </thead>\n",
       "  <tbody>\n",
       "    <tr>\n",
       "      <th>0</th>\n",
       "      <td>-0.831024</td>\n",
       "      <td>-0.424219</td>\n",
       "      <td>0.673681</td>\n",
       "      <td>0.155314</td>\n",
       "    </tr>\n",
       "    <tr>\n",
       "      <th>1</th>\n",
       "      <td>-0.031966</td>\n",
       "      <td>-0.151838</td>\n",
       "      <td>0.163245</td>\n",
       "      <td>2.802225</td>\n",
       "    </tr>\n",
       "    <tr>\n",
       "      <th>2</th>\n",
       "      <td>-2.091403</td>\n",
       "      <td>0.568633</td>\n",
       "      <td>-0.409543</td>\n",
       "      <td>0.411693</td>\n",
       "    </tr>\n",
       "  </tbody>\n",
       "</table>\n",
       "</div>"
      ],
      "text/plain": [
       "          A         B         C         D\n",
       "0 -0.831024 -0.424219  0.673681  0.155314\n",
       "1 -0.031966 -0.151838  0.163245  2.802225\n",
       "2 -2.091403  0.568633 -0.409543  0.411693"
      ]
     },
     "execution_count": 19,
     "metadata": {},
     "output_type": "execute_result"
    }
   ],
   "source": [
    "df1"
   ]
  },
  {
   "cell_type": "code",
   "execution_count": 20,
   "metadata": {},
   "outputs": [
    {
     "data": {
      "text/html": [
       "<div>\n",
       "<style scoped>\n",
       "    .dataframe tbody tr th:only-of-type {\n",
       "        vertical-align: middle;\n",
       "    }\n",
       "\n",
       "    .dataframe tbody tr th {\n",
       "        vertical-align: top;\n",
       "    }\n",
       "\n",
       "    .dataframe thead th {\n",
       "        text-align: right;\n",
       "    }\n",
       "</style>\n",
       "<table border=\"1\" class=\"dataframe\">\n",
       "  <thead>\n",
       "    <tr style=\"text-align: right;\">\n",
       "      <th></th>\n",
       "      <th>A</th>\n",
       "      <th>B</th>\n",
       "      <th>C</th>\n",
       "    </tr>\n",
       "  </thead>\n",
       "  <tbody>\n",
       "    <tr>\n",
       "      <th>0</th>\n",
       "      <td>1</td>\n",
       "      <td>0</td>\n",
       "      <td>Hello</td>\n",
       "    </tr>\n",
       "    <tr>\n",
       "      <th>1</th>\n",
       "      <td>1</td>\n",
       "      <td>1</td>\n",
       "      <td>Hello</td>\n",
       "    </tr>\n",
       "    <tr>\n",
       "      <th>2</th>\n",
       "      <td>1</td>\n",
       "      <td>2</td>\n",
       "      <td>Hello</td>\n",
       "    </tr>\n",
       "  </tbody>\n",
       "</table>\n",
       "</div>"
      ],
      "text/plain": [
       "   A  B      C\n",
       "0  1  0  Hello\n",
       "1  1  1  Hello\n",
       "2  1  2  Hello"
      ]
     },
     "execution_count": 20,
     "metadata": {},
     "output_type": "execute_result"
    }
   ],
   "source": [
    "df2 = pd.DataFrame({'A':1, 'B':np.arange(3), 'C':'Hello'})\n",
    "df2"
   ]
  },
  {
   "cell_type": "code",
   "execution_count": 21,
   "metadata": {},
   "outputs": [
    {
     "data": {
      "text/html": [
       "<div>\n",
       "<style scoped>\n",
       "    .dataframe tbody tr th:only-of-type {\n",
       "        vertical-align: middle;\n",
       "    }\n",
       "\n",
       "    .dataframe tbody tr th {\n",
       "        vertical-align: top;\n",
       "    }\n",
       "\n",
       "    .dataframe thead th {\n",
       "        text-align: right;\n",
       "    }\n",
       "</style>\n",
       "<table border=\"1\" class=\"dataframe\">\n",
       "  <thead>\n",
       "    <tr style=\"text-align: right;\">\n",
       "      <th></th>\n",
       "      <th>A</th>\n",
       "      <th>B</th>\n",
       "      <th>C</th>\n",
       "      <th>D</th>\n",
       "      <th>E</th>\n",
       "    </tr>\n",
       "  </thead>\n",
       "  <tbody>\n",
       "    <tr>\n",
       "      <th>0</th>\n",
       "      <td>0.570089</td>\n",
       "      <td>0.548386</td>\n",
       "      <td>-0.341706</td>\n",
       "      <td>0.153371</td>\n",
       "      <td>-0.144586</td>\n",
       "    </tr>\n",
       "    <tr>\n",
       "      <th>1</th>\n",
       "      <td>0.519748</td>\n",
       "      <td>0.621356</td>\n",
       "      <td>-0.156301</td>\n",
       "      <td>-1.051854</td>\n",
       "      <td>-0.111745</td>\n",
       "    </tr>\n",
       "    <tr>\n",
       "      <th>2</th>\n",
       "      <td>0.092494</td>\n",
       "      <td>-1.079553</td>\n",
       "      <td>1.056655</td>\n",
       "      <td>0.366991</td>\n",
       "      <td>-0.262277</td>\n",
       "    </tr>\n",
       "    <tr>\n",
       "      <th>3</th>\n",
       "      <td>-0.427414</td>\n",
       "      <td>-1.636610</td>\n",
       "      <td>0.521134</td>\n",
       "      <td>-0.012285</td>\n",
       "      <td>0.553718</td>\n",
       "    </tr>\n",
       "    <tr>\n",
       "      <th>4</th>\n",
       "      <td>0.873560</td>\n",
       "      <td>-0.871419</td>\n",
       "      <td>-0.185396</td>\n",
       "      <td>1.069738</td>\n",
       "      <td>0.696834</td>\n",
       "    </tr>\n",
       "    <tr>\n",
       "      <th>5</th>\n",
       "      <td>-0.376521</td>\n",
       "      <td>-0.322117</td>\n",
       "      <td>0.630230</td>\n",
       "      <td>-0.205193</td>\n",
       "      <td>-0.162689</td>\n",
       "    </tr>\n",
       "    <tr>\n",
       "      <th>6</th>\n",
       "      <td>0.139516</td>\n",
       "      <td>-1.778101</td>\n",
       "      <td>0.396926</td>\n",
       "      <td>-0.831885</td>\n",
       "      <td>-0.855318</td>\n",
       "    </tr>\n",
       "    <tr>\n",
       "      <th>7</th>\n",
       "      <td>1.280675</td>\n",
       "      <td>2.213081</td>\n",
       "      <td>0.359461</td>\n",
       "      <td>1.959266</td>\n",
       "      <td>2.342834</td>\n",
       "    </tr>\n",
       "    <tr>\n",
       "      <th>8</th>\n",
       "      <td>0.667087</td>\n",
       "      <td>-0.918614</td>\n",
       "      <td>0.130699</td>\n",
       "      <td>-0.938855</td>\n",
       "      <td>-0.677521</td>\n",
       "    </tr>\n",
       "    <tr>\n",
       "      <th>9</th>\n",
       "      <td>-0.280303</td>\n",
       "      <td>0.371691</td>\n",
       "      <td>1.160210</td>\n",
       "      <td>0.408257</td>\n",
       "      <td>1.103329</td>\n",
       "    </tr>\n",
       "  </tbody>\n",
       "</table>\n",
       "</div>"
      ],
      "text/plain": [
       "          A         B         C         D         E\n",
       "0  0.570089  0.548386 -0.341706  0.153371 -0.144586\n",
       "1  0.519748  0.621356 -0.156301 -1.051854 -0.111745\n",
       "2  0.092494 -1.079553  1.056655  0.366991 -0.262277\n",
       "3 -0.427414 -1.636610  0.521134 -0.012285  0.553718\n",
       "4  0.873560 -0.871419 -0.185396  1.069738  0.696834\n",
       "5 -0.376521 -0.322117  0.630230 -0.205193 -0.162689\n",
       "6  0.139516 -1.778101  0.396926 -0.831885 -0.855318\n",
       "7  1.280675  2.213081  0.359461  1.959266  2.342834\n",
       "8  0.667087 -0.918614  0.130699 -0.938855 -0.677521\n",
       "9 -0.280303  0.371691  1.160210  0.408257  1.103329"
      ]
     },
     "execution_count": 21,
     "metadata": {},
     "output_type": "execute_result"
    }
   ],
   "source": [
    "df1 = pd.DataFrame(np.random.randn(10,5), columns=['A','B','C','D', 'E'])\n",
    "df1"
   ]
  },
  {
   "cell_type": "code",
   "execution_count": 22,
   "metadata": {},
   "outputs": [
    {
     "data": {
      "text/html": [
       "<div>\n",
       "<style scoped>\n",
       "    .dataframe tbody tr th:only-of-type {\n",
       "        vertical-align: middle;\n",
       "    }\n",
       "\n",
       "    .dataframe tbody tr th {\n",
       "        vertical-align: top;\n",
       "    }\n",
       "\n",
       "    .dataframe thead th {\n",
       "        text-align: right;\n",
       "    }\n",
       "</style>\n",
       "<table border=\"1\" class=\"dataframe\">\n",
       "  <thead>\n",
       "    <tr style=\"text-align: right;\">\n",
       "      <th></th>\n",
       "      <th>A</th>\n",
       "      <th>B</th>\n",
       "      <th>C</th>\n",
       "      <th>D</th>\n",
       "      <th>E</th>\n",
       "    </tr>\n",
       "  </thead>\n",
       "  <tbody>\n",
       "    <tr>\n",
       "      <th>0</th>\n",
       "      <td>0.570089</td>\n",
       "      <td>0.548386</td>\n",
       "      <td>-0.341706</td>\n",
       "      <td>0.153371</td>\n",
       "      <td>-0.144586</td>\n",
       "    </tr>\n",
       "    <tr>\n",
       "      <th>1</th>\n",
       "      <td>0.519748</td>\n",
       "      <td>0.621356</td>\n",
       "      <td>-0.156301</td>\n",
       "      <td>-1.051854</td>\n",
       "      <td>-0.111745</td>\n",
       "    </tr>\n",
       "    <tr>\n",
       "      <th>2</th>\n",
       "      <td>0.092494</td>\n",
       "      <td>-1.079553</td>\n",
       "      <td>1.056655</td>\n",
       "      <td>0.366991</td>\n",
       "      <td>-0.262277</td>\n",
       "    </tr>\n",
       "  </tbody>\n",
       "</table>\n",
       "</div>"
      ],
      "text/plain": [
       "          A         B         C         D         E\n",
       "0  0.570089  0.548386 -0.341706  0.153371 -0.144586\n",
       "1  0.519748  0.621356 -0.156301 -1.051854 -0.111745\n",
       "2  0.092494 -1.079553  1.056655  0.366991 -0.262277"
      ]
     },
     "execution_count": 22,
     "metadata": {},
     "output_type": "execute_result"
    }
   ],
   "source": [
    "df1.head(3)"
   ]
  },
  {
   "cell_type": "code",
   "execution_count": 23,
   "metadata": {},
   "outputs": [
    {
     "data": {
      "text/html": [
       "<div>\n",
       "<style scoped>\n",
       "    .dataframe tbody tr th:only-of-type {\n",
       "        vertical-align: middle;\n",
       "    }\n",
       "\n",
       "    .dataframe tbody tr th {\n",
       "        vertical-align: top;\n",
       "    }\n",
       "\n",
       "    .dataframe thead th {\n",
       "        text-align: right;\n",
       "    }\n",
       "</style>\n",
       "<table border=\"1\" class=\"dataframe\">\n",
       "  <thead>\n",
       "    <tr style=\"text-align: right;\">\n",
       "      <th></th>\n",
       "      <th>A</th>\n",
       "      <th>B</th>\n",
       "      <th>C</th>\n",
       "      <th>D</th>\n",
       "      <th>E</th>\n",
       "    </tr>\n",
       "  </thead>\n",
       "  <tbody>\n",
       "    <tr>\n",
       "      <th>7</th>\n",
       "      <td>1.280675</td>\n",
       "      <td>2.213081</td>\n",
       "      <td>0.359461</td>\n",
       "      <td>1.959266</td>\n",
       "      <td>2.342834</td>\n",
       "    </tr>\n",
       "    <tr>\n",
       "      <th>8</th>\n",
       "      <td>0.667087</td>\n",
       "      <td>-0.918614</td>\n",
       "      <td>0.130699</td>\n",
       "      <td>-0.938855</td>\n",
       "      <td>-0.677521</td>\n",
       "    </tr>\n",
       "    <tr>\n",
       "      <th>9</th>\n",
       "      <td>-0.280303</td>\n",
       "      <td>0.371691</td>\n",
       "      <td>1.160210</td>\n",
       "      <td>0.408257</td>\n",
       "      <td>1.103329</td>\n",
       "    </tr>\n",
       "  </tbody>\n",
       "</table>\n",
       "</div>"
      ],
      "text/plain": [
       "          A         B         C         D         E\n",
       "7  1.280675  2.213081  0.359461  1.959266  2.342834\n",
       "8  0.667087 -0.918614  0.130699 -0.938855 -0.677521\n",
       "9 -0.280303  0.371691  1.160210  0.408257  1.103329"
      ]
     },
     "execution_count": 23,
     "metadata": {},
     "output_type": "execute_result"
    }
   ],
   "source": [
    "df1.tail(3)"
   ]
  },
  {
   "cell_type": "code",
   "execution_count": 24,
   "metadata": {},
   "outputs": [
    {
     "data": {
      "text/plain": [
       "RangeIndex(start=0, stop=10, step=1)"
      ]
     },
     "execution_count": 24,
     "metadata": {},
     "output_type": "execute_result"
    }
   ],
   "source": [
    "df1.index"
   ]
  },
  {
   "cell_type": "code",
   "execution_count": 25,
   "metadata": {},
   "outputs": [
    {
     "data": {
      "text/plain": [
       "Index(['A', 'B', 'C', 'D', 'E'], dtype='object')"
      ]
     },
     "execution_count": 25,
     "metadata": {},
     "output_type": "execute_result"
    }
   ],
   "source": [
    "df1.columns"
   ]
  },
  {
   "cell_type": "code",
   "execution_count": 26,
   "metadata": {},
   "outputs": [
    {
     "data": {
      "text/plain": [
       "array([[ 0.57008875,  0.54838635, -0.34170567,  0.153371  , -0.1445856 ],\n",
       "       [ 0.51974762,  0.6213558 , -0.15630138, -1.05185354, -0.11174529],\n",
       "       [ 0.09249364, -1.07955328,  1.05665538,  0.36699134, -0.2622767 ],\n",
       "       [-0.42741355, -1.63660983,  0.52113379, -0.01228513,  0.55371775],\n",
       "       [ 0.87356014, -0.87141926, -0.185396  ,  1.06973756,  0.69683403],\n",
       "       [-0.37652052, -0.32211731,  0.63023007, -0.20519325, -0.16268891],\n",
       "       [ 0.13951554, -1.77810071,  0.39692567, -0.83188463, -0.85531812],\n",
       "       [ 1.28067505,  2.21308138,  0.35946089,  1.95926649,  2.34283437],\n",
       "       [ 0.66708749, -0.91861431,  0.13069866, -0.93885491, -0.67752097],\n",
       "       [-0.2803029 ,  0.37169052,  1.16021041,  0.40825731,  1.1033287 ]])"
      ]
     },
     "execution_count": 26,
     "metadata": {},
     "output_type": "execute_result"
    }
   ],
   "source": [
    "df1.values"
   ]
  },
  {
   "cell_type": "code",
   "execution_count": 27,
   "metadata": {},
   "outputs": [
    {
     "data": {
      "text/plain": [
       "numpy.ndarray"
      ]
     },
     "execution_count": 27,
     "metadata": {},
     "output_type": "execute_result"
    }
   ],
   "source": [
    "type(df1.values)"
   ]
  },
  {
   "cell_type": "markdown",
   "metadata": {},
   "source": [
    "### Getting Data In/Out\n",
    "\n",
    "#### CSV\n",
    "**CSV** (comma separated values) file is a text file in which the values in the\n",
    "columns are separated by a comma.\n",
    "\n",
    "CSV is preferred because of its simplicity, and it can be used with any spreadsheet program."
   ]
  },
  {
   "cell_type": "code",
   "execution_count": 28,
   "metadata": {},
   "outputs": [
    {
     "data": {
      "text/html": [
       "<div>\n",
       "<style scoped>\n",
       "    .dataframe tbody tr th:only-of-type {\n",
       "        vertical-align: middle;\n",
       "    }\n",
       "\n",
       "    .dataframe tbody tr th {\n",
       "        vertical-align: top;\n",
       "    }\n",
       "\n",
       "    .dataframe thead th {\n",
       "        text-align: right;\n",
       "    }\n",
       "</style>\n",
       "<table border=\"1\" class=\"dataframe\">\n",
       "  <thead>\n",
       "    <tr style=\"text-align: right;\">\n",
       "      <th></th>\n",
       "      <th>customer_id</th>\n",
       "      <th>first_name</th>\n",
       "      <th>last_name</th>\n",
       "      <th>email</th>\n",
       "      <th>address</th>\n",
       "      <th>city</th>\n",
       "      <th>state</th>\n",
       "      <th>zip</th>\n",
       "      <th>balance</th>\n",
       "    </tr>\n",
       "  </thead>\n",
       "  <tbody>\n",
       "    <tr>\n",
       "      <th>0</th>\n",
       "      <td>1</td>\n",
       "      <td>George</td>\n",
       "      <td>Washington</td>\n",
       "      <td>gwashington@usa.gov</td>\n",
       "      <td>3200 Mt Vernon Hwy</td>\n",
       "      <td>Mount Vernon</td>\n",
       "      <td>VA</td>\n",
       "      <td>22121</td>\n",
       "      <td>1000</td>\n",
       "    </tr>\n",
       "    <tr>\n",
       "      <th>1</th>\n",
       "      <td>2</td>\n",
       "      <td>John</td>\n",
       "      <td>Adams</td>\n",
       "      <td>jadams@usa.gov</td>\n",
       "      <td>1250 Hancock St</td>\n",
       "      <td>Quincy</td>\n",
       "      <td>MA</td>\n",
       "      <td>2169</td>\n",
       "      <td>500</td>\n",
       "    </tr>\n",
       "    <tr>\n",
       "      <th>2</th>\n",
       "      <td>3</td>\n",
       "      <td>Thomas</td>\n",
       "      <td>Jefferson</td>\n",
       "      <td>tjefferson@usa.gov</td>\n",
       "      <td>931 Thomas Jefferson Pkwy</td>\n",
       "      <td>Charlottesville</td>\n",
       "      <td>VA</td>\n",
       "      <td>22902</td>\n",
       "      <td>2500</td>\n",
       "    </tr>\n",
       "    <tr>\n",
       "      <th>3</th>\n",
       "      <td>4</td>\n",
       "      <td>James</td>\n",
       "      <td>Madison</td>\n",
       "      <td>jmadison@usa.gov</td>\n",
       "      <td>11350 Constitution Hwy</td>\n",
       "      <td>Orange</td>\n",
       "      <td>VA</td>\n",
       "      <td>22960</td>\n",
       "      <td>9000</td>\n",
       "    </tr>\n",
       "    <tr>\n",
       "      <th>4</th>\n",
       "      <td>5</td>\n",
       "      <td>James</td>\n",
       "      <td>Monroe</td>\n",
       "      <td>jmonroe@usa.gov</td>\n",
       "      <td>2050 James Monroe Pkwy</td>\n",
       "      <td>Charlottesville</td>\n",
       "      <td>VA</td>\n",
       "      <td>22902</td>\n",
       "      <td>1756</td>\n",
       "    </tr>\n",
       "  </tbody>\n",
       "</table>\n",
       "</div>"
      ],
      "text/plain": [
       "   customer_id first_name   last_name                email  \\\n",
       "0            1     George  Washington  gwashington@usa.gov   \n",
       "1            2       John       Adams       jadams@usa.gov   \n",
       "2            3     Thomas   Jefferson   tjefferson@usa.gov   \n",
       "3            4      James     Madison     jmadison@usa.gov   \n",
       "4            5      James      Monroe      jmonroe@usa.gov   \n",
       "\n",
       "                     address             city state    zip  balance  \n",
       "0         3200 Mt Vernon Hwy     Mount Vernon    VA  22121     1000  \n",
       "1            1250 Hancock St           Quincy    MA   2169      500  \n",
       "2  931 Thomas Jefferson Pkwy  Charlottesville    VA  22902     2500  \n",
       "3     11350 Constitution Hwy           Orange    VA  22960     9000  \n",
       "4     2050 James Monroe Pkwy  Charlottesville    VA  22902     1756  "
      ]
     },
     "execution_count": 28,
     "metadata": {},
     "output_type": "execute_result"
    }
   ],
   "source": [
    "df3 = pd.read_csv('customer.csv')\n",
    "df3"
   ]
  },
  {
   "cell_type": "code",
   "execution_count": 29,
   "metadata": {},
   "outputs": [],
   "source": [
    "df3.to_csv('customer2.csv', header=False, index=False, float_format='%.6f')"
   ]
  },
  {
   "cell_type": "markdown",
   "metadata": {},
   "source": [
    "#### JSON\n",
    "\n",
    "**JSON** (JavaScript Object Notation) stores data as text in human-readable format. JSON object is a key-value data format that is typically rendered in curly brackets. Arrays use square brackets.\n",
    "\n",
    "JSON is good for NoSQL data since its structure is more flexible and can handle tabular format."
   ]
  },
  {
   "cell_type": "code",
   "execution_count": 30,
   "metadata": {},
   "outputs": [
    {
     "name": "stdout",
     "output_type": "stream",
     "text": [
      "{\n",
      "    \"fruit\": [\"Apple\", \"Banana\", \"Orange\", \"Peach\", \"Pear\"],\n",
      "    \"size\": [\"Large\", \"Medium\", \"Small\", \"Small\", \"Large\"],\n",
      "    \"color\": [\"Red\", \"Yellow\", \"Orange\", \"Pink\", \"Green\"]\n",
      "}\n"
     ]
    },
    {
     "data": {
      "text/html": [
       "<div>\n",
       "<style scoped>\n",
       "    .dataframe tbody tr th:only-of-type {\n",
       "        vertical-align: middle;\n",
       "    }\n",
       "\n",
       "    .dataframe tbody tr th {\n",
       "        vertical-align: top;\n",
       "    }\n",
       "\n",
       "    .dataframe thead th {\n",
       "        text-align: right;\n",
       "    }\n",
       "</style>\n",
       "<table border=\"1\" class=\"dataframe\">\n",
       "  <thead>\n",
       "    <tr style=\"text-align: right;\">\n",
       "      <th></th>\n",
       "      <th>fruit</th>\n",
       "      <th>size</th>\n",
       "      <th>color</th>\n",
       "    </tr>\n",
       "  </thead>\n",
       "  <tbody>\n",
       "    <tr>\n",
       "      <th>0</th>\n",
       "      <td>Apple</td>\n",
       "      <td>Large</td>\n",
       "      <td>Red</td>\n",
       "    </tr>\n",
       "    <tr>\n",
       "      <th>1</th>\n",
       "      <td>Banana</td>\n",
       "      <td>Medium</td>\n",
       "      <td>Yellow</td>\n",
       "    </tr>\n",
       "    <tr>\n",
       "      <th>2</th>\n",
       "      <td>Orange</td>\n",
       "      <td>Small</td>\n",
       "      <td>Orange</td>\n",
       "    </tr>\n",
       "    <tr>\n",
       "      <th>3</th>\n",
       "      <td>Peach</td>\n",
       "      <td>Small</td>\n",
       "      <td>Pink</td>\n",
       "    </tr>\n",
       "    <tr>\n",
       "      <th>4</th>\n",
       "      <td>Pear</td>\n",
       "      <td>Large</td>\n",
       "      <td>Green</td>\n",
       "    </tr>\n",
       "  </tbody>\n",
       "</table>\n",
       "</div>"
      ],
      "text/plain": [
       "    fruit    size   color\n",
       "0   Apple   Large     Red\n",
       "1  Banana  Medium  Yellow\n",
       "2  Orange   Small  Orange\n",
       "3   Peach   Small    Pink\n",
       "4    Pear   Large   Green"
      ]
     },
     "execution_count": 30,
     "metadata": {},
     "output_type": "execute_result"
    }
   ],
   "source": [
    "!cat test.json\n",
    "#!type test.json\n",
    "df4 = pd.read_json('test.json')\n",
    "df4"
   ]
  },
  {
   "cell_type": "code",
   "execution_count": 31,
   "metadata": {},
   "outputs": [
    {
     "name": "stdout",
     "output_type": "stream",
     "text": [
      "{\"fruit\":\"Apple\",\"size\":\"Large\",\"color\":\"Red\"}\n",
      "{\"fruit\":\"Banana\",\"size\":\"Medium\",\"color\":\"Yellow\"}\n",
      "{\"fruit\":\"Orange\",\"size\":\"Small\",\"color\":\"Orange\"}\n",
      "{\"fruit\":\"Peach\",\"size\":\"Small\",\"color\":\"Pink\"}\n",
      "{\"fruit\":\"Pear\",\"size\":\"Large\",\"color\":\"Green\"}\n",
      "<class 'str'>\n"
     ]
    }
   ],
   "source": [
    "json_str = df4.to_json(orient='records', lines=True)\n",
    "print(json_str)\n",
    "print(type(json_str))"
   ]
  },
  {
   "cell_type": "markdown",
   "metadata": {},
   "source": [
    "#### Excel\n",
    "\n",
    "Excel is the best spreadsheet software package available."
   ]
  },
  {
   "cell_type": "code",
   "execution_count": 32,
   "metadata": {},
   "outputs": [
    {
     "name": "stdout",
     "output_type": "stream",
     "text": [
      "            first_name   last_name                email  \\\n",
      "customer_id                                               \n",
      "1               George  Washington  gwashington@usa.gov   \n",
      "2                 John       Adams       jadams@usa.gov   \n",
      "3               Thomas   Jefferson   tjefferson@usa.gov   \n",
      "4                James     Madison     jmadison@usa.gov   \n",
      "5                James      Monroe      jmonroe@usa.gov   \n",
      "\n",
      "                               address             city state    zip  \n",
      "customer_id                                                           \n",
      "1                   3200 Mt Vernon Hwy     Mount Vernon    VA  22121  \n",
      "2                      1250 Hancock St           Quincy    MA   2169  \n",
      "3            931 Thomas Jefferson Pkwy  Charlottesville    VA  22902  \n",
      "4               11350 Constitution Hwy           Orange    VA  22960  \n",
      "5               2050 James Monroe Pkwy  Charlottesville    VA  22902  \n"
     ]
    }
   ],
   "source": [
    "df5 = pd.read_excel('test.xlsx', index_col=0)\n",
    "print(df5)"
   ]
  },
  {
   "cell_type": "code",
   "execution_count": 33,
   "metadata": {},
   "outputs": [
    {
     "name": "stdout",
     "output_type": "stream",
     "text": [
      "\n",
      "DataFrame 0\n",
      "            first_name   last_name                email  \\\n",
      "customer_id                                               \n",
      "1               George  Washington  gwashington@usa.gov   \n",
      "2                 John       Adams       jadams@usa.gov   \n",
      "3               Thomas   Jefferson   tjefferson@usa.gov   \n",
      "4                James     Madison     jmadison@usa.gov   \n",
      "5                James      Monroe      jmonroe@usa.gov   \n",
      "\n",
      "                               address             city state    zip  \n",
      "customer_id                                                           \n",
      "1                   3200 Mt Vernon Hwy     Mount Vernon    VA  22121  \n",
      "2                      1250 Hancock St           Quincy    MA   2169  \n",
      "3            931 Thomas Jefferson Pkwy  Charlottesville    VA  22902  \n",
      "4               11350 Constitution Hwy           Orange    VA  22960  \n",
      "5               2050 James Monroe Pkwy  Charlottesville    VA  22902  \n",
      "\n",
      "DataFrame 1\n",
      "                   order_date   amount  customer_id\n",
      "order_id                                           \n",
      "1         1776-04-08 00:00:00  $234.56            1\n",
      "2                  03/14/1760   $78.50            3\n",
      "3                  05/23/1784  $124.00            2\n",
      "4         1790-03-10 00:00:00   $65.50            3\n",
      "5                  07/21/1795   $25.50           10\n",
      "6                  11/27/1787   $14.40            9\n"
     ]
    }
   ],
   "source": [
    "xl = pd.ExcelFile('test.xlsx')\n",
    "for i, name in enumerate(xl.sheet_names):\n",
    "    df = xl.parse(name, index_col=0)\n",
    "    print('\\nDataFrame', i)\n",
    "    print(df)"
   ]
  },
  {
   "cell_type": "code",
   "execution_count": 34,
   "metadata": {},
   "outputs": [],
   "source": [
    "with pd.ExcelWriter('test2.xlsx') as writer:\n",
    "    df2.to_excel(writer, sheet_name='Sheet1')\n",
    "    df4.to_excel(writer, sheet_name='Sheet2')"
   ]
  },
  {
   "cell_type": "markdown",
   "metadata": {},
   "source": [
    "For more details about Pandas I/O see at https://pandas.pydata.org/pandas-docs/stable/reference/io.html"
   ]
  },
  {
   "cell_type": "markdown",
   "metadata": {},
   "source": [
    "#### Convert Between NumPy and Pandas\n",
    "\n",
    "You can convert between Pandas DataFrame/Series and NumPy ndarray very easily"
   ]
  },
  {
   "cell_type": "code",
   "execution_count": 35,
   "metadata": {},
   "outputs": [
    {
     "data": {
      "text/plain": [
       "array([[ 0.57008875,  0.54838635, -0.34170567,  0.153371  , -0.1445856 ],\n",
       "       [ 0.51974762,  0.6213558 , -0.15630138, -1.05185354, -0.11174529],\n",
       "       [ 0.09249364, -1.07955328,  1.05665538,  0.36699134, -0.2622767 ],\n",
       "       [-0.42741355, -1.63660983,  0.52113379, -0.01228513,  0.55371775],\n",
       "       [ 0.87356014, -0.87141926, -0.185396  ,  1.06973756,  0.69683403],\n",
       "       [-0.37652052, -0.32211731,  0.63023007, -0.20519325, -0.16268891],\n",
       "       [ 0.13951554, -1.77810071,  0.39692567, -0.83188463, -0.85531812],\n",
       "       [ 1.28067505,  2.21308138,  0.35946089,  1.95926649,  2.34283437],\n",
       "       [ 0.66708749, -0.91861431,  0.13069866, -0.93885491, -0.67752097],\n",
       "       [-0.2803029 ,  0.37169052,  1.16021041,  0.40825731,  1.1033287 ]])"
      ]
     },
     "execution_count": 35,
     "metadata": {},
     "output_type": "execute_result"
    }
   ],
   "source": [
    "a1 = np.array(df1)\n",
    "a1"
   ]
  },
  {
   "cell_type": "code",
   "execution_count": 36,
   "metadata": {},
   "outputs": [
    {
     "data": {
      "text/plain": [
       "dtype('float64')"
      ]
     },
     "execution_count": 36,
     "metadata": {},
     "output_type": "execute_result"
    }
   ],
   "source": [
    "a1.dtype"
   ]
  },
  {
   "cell_type": "code",
   "execution_count": 37,
   "metadata": {},
   "outputs": [
    {
     "data": {
      "text/plain": [
       "array([[1, 0, 'Hello'],\n",
       "       [1, 1, 'Hello'],\n",
       "       [1, 2, 'Hello']], dtype=object)"
      ]
     },
     "execution_count": 37,
     "metadata": {},
     "output_type": "execute_result"
    }
   ],
   "source": [
    "a2 = np.array(df2)\n",
    "a2"
   ]
  },
  {
   "cell_type": "code",
   "execution_count": 38,
   "metadata": {},
   "outputs": [
    {
     "data": {
      "text/plain": [
       "array([[1, 0, 'Hello'],\n",
       "       [1, 1, 'Hello'],\n",
       "       [1, 2, 'Hello']], dtype=object)"
      ]
     },
     "execution_count": 38,
     "metadata": {},
     "output_type": "execute_result"
    }
   ],
   "source": [
    "df2.values"
   ]
  },
  {
   "cell_type": "code",
   "execution_count": 39,
   "metadata": {},
   "outputs": [
    {
     "data": {
      "text/html": [
       "<div>\n",
       "<style scoped>\n",
       "    .dataframe tbody tr th:only-of-type {\n",
       "        vertical-align: middle;\n",
       "    }\n",
       "\n",
       "    .dataframe tbody tr th {\n",
       "        vertical-align: top;\n",
       "    }\n",
       "\n",
       "    .dataframe thead th {\n",
       "        text-align: right;\n",
       "    }\n",
       "</style>\n",
       "<table border=\"1\" class=\"dataframe\">\n",
       "  <thead>\n",
       "    <tr style=\"text-align: right;\">\n",
       "      <th></th>\n",
       "      <th>0</th>\n",
       "      <th>1</th>\n",
       "      <th>2</th>\n",
       "      <th>3</th>\n",
       "      <th>4</th>\n",
       "    </tr>\n",
       "  </thead>\n",
       "  <tbody>\n",
       "    <tr>\n",
       "      <th>0</th>\n",
       "      <td>0.570089</td>\n",
       "      <td>0.548386</td>\n",
       "      <td>-0.341706</td>\n",
       "      <td>0.153371</td>\n",
       "      <td>-0.144586</td>\n",
       "    </tr>\n",
       "    <tr>\n",
       "      <th>1</th>\n",
       "      <td>0.519748</td>\n",
       "      <td>0.621356</td>\n",
       "      <td>-0.156301</td>\n",
       "      <td>-1.051854</td>\n",
       "      <td>-0.111745</td>\n",
       "    </tr>\n",
       "    <tr>\n",
       "      <th>2</th>\n",
       "      <td>0.092494</td>\n",
       "      <td>-1.079553</td>\n",
       "      <td>1.056655</td>\n",
       "      <td>0.366991</td>\n",
       "      <td>-0.262277</td>\n",
       "    </tr>\n",
       "    <tr>\n",
       "      <th>3</th>\n",
       "      <td>-0.427414</td>\n",
       "      <td>-1.636610</td>\n",
       "      <td>0.521134</td>\n",
       "      <td>-0.012285</td>\n",
       "      <td>0.553718</td>\n",
       "    </tr>\n",
       "    <tr>\n",
       "      <th>4</th>\n",
       "      <td>0.873560</td>\n",
       "      <td>-0.871419</td>\n",
       "      <td>-0.185396</td>\n",
       "      <td>1.069738</td>\n",
       "      <td>0.696834</td>\n",
       "    </tr>\n",
       "    <tr>\n",
       "      <th>5</th>\n",
       "      <td>-0.376521</td>\n",
       "      <td>-0.322117</td>\n",
       "      <td>0.630230</td>\n",
       "      <td>-0.205193</td>\n",
       "      <td>-0.162689</td>\n",
       "    </tr>\n",
       "    <tr>\n",
       "      <th>6</th>\n",
       "      <td>0.139516</td>\n",
       "      <td>-1.778101</td>\n",
       "      <td>0.396926</td>\n",
       "      <td>-0.831885</td>\n",
       "      <td>-0.855318</td>\n",
       "    </tr>\n",
       "    <tr>\n",
       "      <th>7</th>\n",
       "      <td>1.280675</td>\n",
       "      <td>2.213081</td>\n",
       "      <td>0.359461</td>\n",
       "      <td>1.959266</td>\n",
       "      <td>2.342834</td>\n",
       "    </tr>\n",
       "    <tr>\n",
       "      <th>8</th>\n",
       "      <td>0.667087</td>\n",
       "      <td>-0.918614</td>\n",
       "      <td>0.130699</td>\n",
       "      <td>-0.938855</td>\n",
       "      <td>-0.677521</td>\n",
       "    </tr>\n",
       "    <tr>\n",
       "      <th>9</th>\n",
       "      <td>-0.280303</td>\n",
       "      <td>0.371691</td>\n",
       "      <td>1.160210</td>\n",
       "      <td>0.408257</td>\n",
       "      <td>1.103329</td>\n",
       "    </tr>\n",
       "  </tbody>\n",
       "</table>\n",
       "</div>"
      ],
      "text/plain": [
       "          0         1         2         3         4\n",
       "0  0.570089  0.548386 -0.341706  0.153371 -0.144586\n",
       "1  0.519748  0.621356 -0.156301 -1.051854 -0.111745\n",
       "2  0.092494 -1.079553  1.056655  0.366991 -0.262277\n",
       "3 -0.427414 -1.636610  0.521134 -0.012285  0.553718\n",
       "4  0.873560 -0.871419 -0.185396  1.069738  0.696834\n",
       "5 -0.376521 -0.322117  0.630230 -0.205193 -0.162689\n",
       "6  0.139516 -1.778101  0.396926 -0.831885 -0.855318\n",
       "7  1.280675  2.213081  0.359461  1.959266  2.342834\n",
       "8  0.667087 -0.918614  0.130699 -0.938855 -0.677521\n",
       "9 -0.280303  0.371691  1.160210  0.408257  1.103329"
      ]
     },
     "execution_count": 39,
     "metadata": {},
     "output_type": "execute_result"
    }
   ],
   "source": [
    "pd.DataFrame(a1)"
   ]
  },
  {
   "cell_type": "code",
   "execution_count": 40,
   "metadata": {},
   "outputs": [
    {
     "data": {
      "text/plain": [
       "0    0\n",
       "1    1\n",
       "2    2\n",
       "dtype: object"
      ]
     },
     "execution_count": 40,
     "metadata": {},
     "output_type": "execute_result"
    }
   ],
   "source": [
    "pd.Series(a2[:,1])"
   ]
  },
  {
   "cell_type": "markdown",
   "metadata": {},
   "source": [
    "[[top](#top)]\n",
    "\n",
    "----"
   ]
  }
 ],
 "metadata": {
  "kernelspec": {
   "display_name": "Python 3",
   "language": "python",
   "name": "python3"
  },
  "language_info": {
   "codemirror_mode": {
    "name": "ipython",
    "version": 3
   },
   "file_extension": ".py",
   "mimetype": "text/x-python",
   "name": "python",
   "nbconvert_exporter": "python",
   "pygments_lexer": "ipython3",
   "version": "3.7.1"
  }
 },
 "nbformat": 4,
 "nbformat_minor": 2
}
