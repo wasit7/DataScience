{
 "cells": [
  {
   "cell_type": "markdown",
   "metadata": {},
   "source": [
    "## Q1 How many transactions in the dataset?\n",
    "\n",
    "## Q2 What is the top-3 most expensive item in the database? \n",
    "* show the price of item.\n",
    "\n",
    "## Q3 Show number of customers were born in each month.\n",
    "* there are 12 months\n",
    "\n",
    "## Q4 Show top-3 popular items that make most income.\n",
    "* show the total income of each item.\n",
    "\n",
    "## Q5 A manager want to crate a birth-month promotion in January 2017.\n",
    "* How many customers were born in January and also made transcations in January 2017?\n",
    "\n",
    "## Q6 In January, what were the top-3 favorite items that customer bought with \"Bread\"?\n",
    "* show number of times\n",
    "\n",
    "## Q7 Who are the top-3 customers that pay most money for \"Tea\"? \n",
    "* show total payment of each customer.\n",
    "\n",
    "## Q8 What are the top-5 items that \"Harry Brown\" pay most money? \n",
    "* show total payment of each item.\n",
    "\n",
    "## Q9 Who are top-5 customer paid most money in 2016? \n",
    "* show total payment of each customer\n",
    "\n",
    "## Q10 Between January and March 2017, Who are top-3 customers that paid most for Coffee?\n",
    "* show total payment"
   ]
  },
  {
   "cell_type": "code",
   "execution_count": 3,
   "metadata": {},
   "outputs": [],
   "source": [
    "import pandas as pd\n",
    "from django.db.models import Q"
   ]
  },
  {
   "cell_type": "code",
   "execution_count": 2,
   "metadata": {},
   "outputs": [
    {
     "data": {
      "text/plain": [
       "{'id__count': 9531}"
      ]
     },
     "execution_count": 2,
     "metadata": {},
     "output_type": "execute_result"
    }
   ],
   "source": [
    "#Q1 How many transactions in the dataset?\n",
    "Transaction.objects.aggregate(Count('id'))"
   ]
  },
  {
   "cell_type": "code",
   "execution_count": 3,
   "metadata": {},
   "outputs": [
    {
     "data": {
      "text/html": [
       "<div>\n",
       "<style scoped>\n",
       "    .dataframe tbody tr th:only-of-type {\n",
       "        vertical-align: middle;\n",
       "    }\n",
       "\n",
       "    .dataframe tbody tr th {\n",
       "        vertical-align: top;\n",
       "    }\n",
       "\n",
       "    .dataframe thead th {\n",
       "        text-align: right;\n",
       "    }\n",
       "</style>\n",
       "<table border=\"1\" class=\"dataframe\">\n",
       "  <thead>\n",
       "    <tr style=\"text-align: right;\">\n",
       "      <th></th>\n",
       "      <th>0</th>\n",
       "    </tr>\n",
       "  </thead>\n",
       "  <tbody>\n",
       "    <tr>\n",
       "      <th>0</th>\n",
       "      <td>Jam 400.00</td>\n",
       "    </tr>\n",
       "    <tr>\n",
       "      <th>1</th>\n",
       "      <td>My-5 Fruit Shoot 400.00</td>\n",
       "    </tr>\n",
       "    <tr>\n",
       "      <th>2</th>\n",
       "      <td>Empanadas 400.00</td>\n",
       "    </tr>\n",
       "  </tbody>\n",
       "</table>\n",
       "</div>"
      ],
      "text/plain": [
       "                         0\n",
       "0               Jam 400.00\n",
       "1  My-5 Fruit Shoot 400.00\n",
       "2         Empanadas 400.00"
      ]
     },
     "execution_count": 3,
     "metadata": {},
     "output_type": "execute_result"
    }
   ],
   "source": [
    "#Q2 What is the top-3 most expensive item in the database? \n",
    "# show the price of item.\n",
    "x=Item.objects.order_by('-price')[:3]\n",
    "pd.DataFrame(x)"
   ]
  },
  {
   "cell_type": "code",
   "execution_count": 4,
   "metadata": {},
   "outputs": [
    {
     "data": {
      "text/html": [
       "<div>\n",
       "<style scoped>\n",
       "    .dataframe tbody tr th:only-of-type {\n",
       "        vertical-align: middle;\n",
       "    }\n",
       "\n",
       "    .dataframe tbody tr th {\n",
       "        vertical-align: top;\n",
       "    }\n",
       "\n",
       "    .dataframe thead th {\n",
       "        text-align: right;\n",
       "    }\n",
       "</style>\n",
       "<table border=\"1\" class=\"dataframe\">\n",
       "  <thead>\n",
       "    <tr style=\"text-align: right;\">\n",
       "      <th></th>\n",
       "      <th>dob__month</th>\n",
       "      <th>id__count</th>\n",
       "    </tr>\n",
       "  </thead>\n",
       "  <tbody>\n",
       "    <tr>\n",
       "      <th>0</th>\n",
       "      <td>1</td>\n",
       "      <td>17</td>\n",
       "    </tr>\n",
       "    <tr>\n",
       "      <th>1</th>\n",
       "      <td>2</td>\n",
       "      <td>7</td>\n",
       "    </tr>\n",
       "    <tr>\n",
       "      <th>2</th>\n",
       "      <td>3</td>\n",
       "      <td>6</td>\n",
       "    </tr>\n",
       "    <tr>\n",
       "      <th>3</th>\n",
       "      <td>4</td>\n",
       "      <td>10</td>\n",
       "    </tr>\n",
       "    <tr>\n",
       "      <th>4</th>\n",
       "      <td>5</td>\n",
       "      <td>6</td>\n",
       "    </tr>\n",
       "    <tr>\n",
       "      <th>5</th>\n",
       "      <td>6</td>\n",
       "      <td>12</td>\n",
       "    </tr>\n",
       "    <tr>\n",
       "      <th>6</th>\n",
       "      <td>7</td>\n",
       "      <td>11</td>\n",
       "    </tr>\n",
       "    <tr>\n",
       "      <th>7</th>\n",
       "      <td>8</td>\n",
       "      <td>12</td>\n",
       "    </tr>\n",
       "    <tr>\n",
       "      <th>8</th>\n",
       "      <td>9</td>\n",
       "      <td>14</td>\n",
       "    </tr>\n",
       "    <tr>\n",
       "      <th>9</th>\n",
       "      <td>10</td>\n",
       "      <td>9</td>\n",
       "    </tr>\n",
       "    <tr>\n",
       "      <th>10</th>\n",
       "      <td>11</td>\n",
       "      <td>9</td>\n",
       "    </tr>\n",
       "    <tr>\n",
       "      <th>11</th>\n",
       "      <td>12</td>\n",
       "      <td>7</td>\n",
       "    </tr>\n",
       "  </tbody>\n",
       "</table>\n",
       "</div>"
      ],
      "text/plain": [
       "    dob__month  id__count\n",
       "0            1         17\n",
       "1            2          7\n",
       "2            3          6\n",
       "3            4         10\n",
       "4            5          6\n",
       "5            6         12\n",
       "6            7         11\n",
       "7            8         12\n",
       "8            9         14\n",
       "9           10          9\n",
       "10          11          9\n",
       "11          12          7"
      ]
     },
     "execution_count": 4,
     "metadata": {},
     "output_type": "execute_result"
    }
   ],
   "source": [
    "#Q3 Show number of customers were born in each month.\n",
    "# there are 12 months\n",
    "x=Customer.objects.values('dob__month')\\\n",
    "    .annotate(Count('id'))\n",
    "pd.DataFrame(x)"
   ]
  },
  {
   "cell_type": "code",
   "execution_count": 4,
   "metadata": {},
   "outputs": [
    {
     "name": "stdout",
     "output_type": "stream",
     "text": [
      "9.5 ms ± 3.51 ms per loop (mean ± std. dev. of 7 runs, 1 loop each)\n"
     ]
    }
   ],
   "source": [
    "%%timeit -n1\n",
    "#Q4 Show top-3 popular items that make most income.\n",
    "# show the total income of each item.\n",
    "\n",
    "x=Record.objects.values('item','item__name')\\\n",
    "    .annotate(Sum('item__price'))\\\n",
    "    .order_by('-item__price__sum')[:3]\n",
    "pd.DataFrame(x)"
   ]
  },
  {
   "cell_type": "code",
   "execution_count": 5,
   "metadata": {},
   "outputs": [
    {
     "data": {
      "text/plain": [
       "{'id__count': 211}"
      ]
     },
     "execution_count": 5,
     "metadata": {},
     "output_type": "execute_result"
    }
   ],
   "source": [
    "#Q5 A manager want to crate a birth-month promotion in January 2017.\n",
    "# How many customers were born in January and also made transcations in January 2017?\n",
    "\n",
    "m=1\n",
    "x=Transaction.objects.filter(datetime__month=m, datetime__year=2017)\\\n",
    "    .values(\n",
    "        'datetime',\n",
    "        'customer__firstname',\n",
    "        'customer__lastname',\n",
    "        'customer__dob'\n",
    "    )\\\n",
    "    .filter(customer__dob__month=m)\\\n",
    "    .aggregate(Count('id'))\n",
    "x\n",
    "#pd.DataFrame(x)"
   ]
  },
  {
   "cell_type": "code",
   "execution_count": 11,
   "metadata": {},
   "outputs": [
    {
     "data": {
      "text/plain": [
       "{'id__count': 211}"
      ]
     },
     "execution_count": 11,
     "metadata": {},
     "output_type": "execute_result"
    }
   ],
   "source": [
    "#Q5 A manager want to crate a birth-month promotion in January 2017.\n",
    "# How many customers were born in January and also made transcations in January 2017?\n",
    "\n",
    "m=1\n",
    "x=Transaction.objects.filter(\n",
    "        datetime__month=m, \n",
    "        customer__dob__month=m,\n",
    "        datetime__year=2017\n",
    "    )\\\n",
    "    .values(\n",
    "        'datetime',\n",
    "        'customer__firstname',\n",
    "        'customer__lastname',\n",
    "        'customer__dob'\n",
    "    )\\\n",
    "    .aggregate(Count('id'))\n",
    "\n",
    "x"
   ]
  },
  {
   "cell_type": "code",
   "execution_count": 14,
   "metadata": {},
   "outputs": [
    {
     "name": "stdout",
     "output_type": "stream",
     "text": [
      "SELECT \"myapp_transaction\".\"datetime\", \"myapp_customer\".\"firstname\", \"myapp_customer\".\"lastname\", \"myapp_customer\".\"dob\" FROM \"myapp_transaction\" INNER JOIN \"myapp_customer\" ON (\"myapp_transaction\".\"customer_id\" = \"myapp_customer\".\"id\") WHERE (django_date_extract('month', \"myapp_customer\".\"dob\") = 1 AND django_datetime_extract('month', \"myapp_transaction\".\"datetime\", 'UTC') = 1 AND \"myapp_transaction\".\"datetime\" BETWEEN 2017-01-01 00:00:00 AND 2017-12-31 23:59:59.999999)\n"
     ]
    }
   ],
   "source": [
    "y=Transaction.objects.filter(\n",
    "        datetime__month=m, \n",
    "        customer__dob__month=m,\n",
    "        datetime__year=2017\n",
    "    )\\\n",
    "    .values(\n",
    "        'datetime',\n",
    "        'customer__firstname',\n",
    "        'customer__lastname',\n",
    "        'customer__dob'\n",
    "    )\n",
    "print(y.query)"
   ]
  },
  {
   "cell_type": "code",
   "execution_count": 15,
   "metadata": {},
   "outputs": [
    {
     "data": {
      "text/html": [
       "<div>\n",
       "<style scoped>\n",
       "    .dataframe tbody tr th:only-of-type {\n",
       "        vertical-align: middle;\n",
       "    }\n",
       "\n",
       "    .dataframe tbody tr th {\n",
       "        vertical-align: top;\n",
       "    }\n",
       "\n",
       "    .dataframe thead th {\n",
       "        text-align: right;\n",
       "    }\n",
       "</style>\n",
       "<table border=\"1\" class=\"dataframe\">\n",
       "  <thead>\n",
       "    <tr style=\"text-align: right;\">\n",
       "      <th></th>\n",
       "      <th>id__count</th>\n",
       "      <th>item__name</th>\n",
       "    </tr>\n",
       "  </thead>\n",
       "  <tbody>\n",
       "    <tr>\n",
       "      <th>0</th>\n",
       "      <td>172</td>\n",
       "      <td>Coffee</td>\n",
       "    </tr>\n",
       "    <tr>\n",
       "      <th>1</th>\n",
       "      <td>51</td>\n",
       "      <td>Tea</td>\n",
       "    </tr>\n",
       "    <tr>\n",
       "      <th>2</th>\n",
       "      <td>41</td>\n",
       "      <td>Cake</td>\n",
       "    </tr>\n",
       "  </tbody>\n",
       "</table>\n",
       "</div>"
      ],
      "text/plain": [
       "   id__count item__name\n",
       "0        172     Coffee\n",
       "1         51        Tea\n",
       "2         41       Cake"
      ]
     },
     "execution_count": 15,
     "metadata": {},
     "output_type": "execute_result"
    }
   ],
   "source": [
    "#Q6 In January, what were the top-3 favorite items that customer bought with \"Bread\"?\n",
    "# show number of times\n",
    "x=Record.objects.filter(\n",
    "        transaction__record__item__name='Bread',\n",
    "        transaction__datetime__month=1\n",
    "    )\\\n",
    "    .values('item__name')\\\n",
    "    .annotate(Count('id'))\\\n",
    "    .order_by('-id__count')[1:4]\n",
    "pd.DataFrame(x)"
   ]
  },
  {
   "cell_type": "code",
   "execution_count": 8,
   "metadata": {},
   "outputs": [
    {
     "data": {
      "text/html": [
       "<div>\n",
       "<style scoped>\n",
       "    .dataframe tbody tr th:only-of-type {\n",
       "        vertical-align: middle;\n",
       "    }\n",
       "\n",
       "    .dataframe tbody tr th {\n",
       "        vertical-align: top;\n",
       "    }\n",
       "\n",
       "    .dataframe thead th {\n",
       "        text-align: right;\n",
       "    }\n",
       "</style>\n",
       "<table border=\"1\" class=\"dataframe\">\n",
       "  <thead>\n",
       "    <tr style=\"text-align: right;\">\n",
       "      <th></th>\n",
       "      <th>item__price__sum</th>\n",
       "      <th>transaction__customer__firstname</th>\n",
       "      <th>transaction__customer__id</th>\n",
       "      <th>transaction__customer__lastname</th>\n",
       "    </tr>\n",
       "  </thead>\n",
       "  <tbody>\n",
       "    <tr>\n",
       "      <th>0</th>\n",
       "      <td>7410</td>\n",
       "      <td>Jacob</td>\n",
       "      <td>54</td>\n",
       "      <td>Taylor</td>\n",
       "    </tr>\n",
       "    <tr>\n",
       "      <th>1</th>\n",
       "      <td>7020</td>\n",
       "      <td>Harry</td>\n",
       "      <td>77</td>\n",
       "      <td>Wilson</td>\n",
       "    </tr>\n",
       "    <tr>\n",
       "      <th>2</th>\n",
       "      <td>7020</td>\n",
       "      <td>Claire</td>\n",
       "      <td>84</td>\n",
       "      <td>Wilson</td>\n",
       "    </tr>\n",
       "  </tbody>\n",
       "</table>\n",
       "</div>"
      ],
      "text/plain": [
       "  item__price__sum transaction__customer__firstname  \\\n",
       "0             7410                            Jacob   \n",
       "1             7020                            Harry   \n",
       "2             7020                           Claire   \n",
       "\n",
       "   transaction__customer__id transaction__customer__lastname  \n",
       "0                         54                          Taylor  \n",
       "1                         77                          Wilson  \n",
       "2                         84                          Wilson  "
      ]
     },
     "execution_count": 8,
     "metadata": {},
     "output_type": "execute_result"
    }
   ],
   "source": [
    "#Q7 Who are the top-3 customers that pay most money for \"Tea\"? \n",
    "# show total payment of each customer.\n",
    "x=Record.objects.filter(item__name='Tea')\\\n",
    "    .values(\n",
    "        'transaction__customer__id',\n",
    "        'transaction__customer__firstname',\n",
    "        'transaction__customer__lastname'\n",
    "    )\\\n",
    "    .annotate(Sum('item__price'))\\\n",
    "    .order_by('-item__price__sum')[:3]\n",
    "pd.DataFrame(x)"
   ]
  },
  {
   "cell_type": "code",
   "execution_count": 9,
   "metadata": {},
   "outputs": [
    {
     "data": {
      "text/html": [
       "<div>\n",
       "<style scoped>\n",
       "    .dataframe tbody tr th:only-of-type {\n",
       "        vertical-align: middle;\n",
       "    }\n",
       "\n",
       "    .dataframe tbody tr th {\n",
       "        vertical-align: top;\n",
       "    }\n",
       "\n",
       "    .dataframe thead th {\n",
       "        text-align: right;\n",
       "    }\n",
       "</style>\n",
       "<table border=\"1\" class=\"dataframe\">\n",
       "  <thead>\n",
       "    <tr style=\"text-align: right;\">\n",
       "      <th></th>\n",
       "      <th>item__id</th>\n",
       "      <th>item__name</th>\n",
       "      <th>item__price__sum</th>\n",
       "    </tr>\n",
       "  </thead>\n",
       "  <tbody>\n",
       "    <tr>\n",
       "      <th>0</th>\n",
       "      <td>10</td>\n",
       "      <td>Coffee</td>\n",
       "      <td>16770</td>\n",
       "    </tr>\n",
       "    <tr>\n",
       "      <th>1</th>\n",
       "      <td>4</td>\n",
       "      <td>Bread</td>\n",
       "      <td>11560</td>\n",
       "    </tr>\n",
       "    <tr>\n",
       "      <th>2</th>\n",
       "      <td>13</td>\n",
       "      <td>Tea</td>\n",
       "      <td>6630</td>\n",
       "    </tr>\n",
       "    <tr>\n",
       "      <th>3</th>\n",
       "      <td>12</td>\n",
       "      <td>Medialuna</td>\n",
       "      <td>2880</td>\n",
       "    </tr>\n",
       "    <tr>\n",
       "      <th>4</th>\n",
       "      <td>6</td>\n",
       "      <td>Hot chocolate</td>\n",
       "      <td>2700</td>\n",
       "    </tr>\n",
       "  </tbody>\n",
       "</table>\n",
       "</div>"
      ],
      "text/plain": [
       "   item__id     item__name item__price__sum\n",
       "0        10         Coffee            16770\n",
       "1         4          Bread            11560\n",
       "2        13            Tea             6630\n",
       "3        12      Medialuna             2880\n",
       "4         6  Hot chocolate             2700"
      ]
     },
     "execution_count": 9,
     "metadata": {},
     "output_type": "execute_result"
    }
   ],
   "source": [
    "#Q8 What are the top-5 items that \"Harry Brown\" pay most money? \n",
    "# show total payment of each item.\n",
    "x=Record.objects.filter(transaction__customer__firstname='Harry',transaction__customer__lastname='Brown')\\\n",
    "    .values('item__id','item__name')\\\n",
    "    .annotate(Sum('item__price'))\\\n",
    "    .order_by('-item__price__sum')[:5]\n",
    "pd.DataFrame(x)"
   ]
  },
  {
   "cell_type": "code",
   "execution_count": 10,
   "metadata": {},
   "outputs": [
    {
     "data": {
      "text/html": [
       "<div>\n",
       "<style scoped>\n",
       "    .dataframe tbody tr th:only-of-type {\n",
       "        vertical-align: middle;\n",
       "    }\n",
       "\n",
       "    .dataframe tbody tr th {\n",
       "        vertical-align: top;\n",
       "    }\n",
       "\n",
       "    .dataframe thead th {\n",
       "        text-align: right;\n",
       "    }\n",
       "</style>\n",
       "<table border=\"1\" class=\"dataframe\">\n",
       "  <thead>\n",
       "    <tr style=\"text-align: right;\">\n",
       "      <th></th>\n",
       "      <th>customer__firstname</th>\n",
       "      <th>customer__lastname</th>\n",
       "      <th>record__item__price__sum</th>\n",
       "    </tr>\n",
       "  </thead>\n",
       "  <tbody>\n",
       "    <tr>\n",
       "      <th>0</th>\n",
       "      <td>James</td>\n",
       "      <td>Johnson</td>\n",
       "      <td>38130</td>\n",
       "    </tr>\n",
       "    <tr>\n",
       "      <th>1</th>\n",
       "      <td>Harry</td>\n",
       "      <td>Wilson</td>\n",
       "      <td>33300</td>\n",
       "    </tr>\n",
       "    <tr>\n",
       "      <th>2</th>\n",
       "      <td>George</td>\n",
       "      <td>Smith</td>\n",
       "      <td>33260</td>\n",
       "    </tr>\n",
       "    <tr>\n",
       "      <th>3</th>\n",
       "      <td>Jack</td>\n",
       "      <td>Taylor</td>\n",
       "      <td>32540</td>\n",
       "    </tr>\n",
       "    <tr>\n",
       "      <th>4</th>\n",
       "      <td>Jack</td>\n",
       "      <td>Evans</td>\n",
       "      <td>32090</td>\n",
       "    </tr>\n",
       "  </tbody>\n",
       "</table>\n",
       "</div>"
      ],
      "text/plain": [
       "  customer__firstname customer__lastname record__item__price__sum\n",
       "0               James            Johnson                    38130\n",
       "1               Harry             Wilson                    33300\n",
       "2              George              Smith                    33260\n",
       "3                Jack             Taylor                    32540\n",
       "4                Jack              Evans                    32090"
      ]
     },
     "execution_count": 10,
     "metadata": {},
     "output_type": "execute_result"
    }
   ],
   "source": [
    "#Q9 Who are top-5 customer paid most money in 2016? \n",
    "# show total payment of each customer\n",
    "x=Transaction.objects.filter(datetime__year=2016)\\\n",
    "    .values(\n",
    "        'customer__firstname',\n",
    "        'customer__lastname',\n",
    "    )\\\n",
    "    .annotate(Sum('record__item__price'))\\\n",
    "    .order_by('-record__item__price__sum')[:5]\n",
    "pd.DataFrame(x)"
   ]
  },
  {
   "cell_type": "code",
   "execution_count": 11,
   "metadata": {},
   "outputs": [
    {
     "data": {
      "text/html": [
       "<div>\n",
       "<style scoped>\n",
       "    .dataframe tbody tr th:only-of-type {\n",
       "        vertical-align: middle;\n",
       "    }\n",
       "\n",
       "    .dataframe tbody tr th {\n",
       "        vertical-align: top;\n",
       "    }\n",
       "\n",
       "    .dataframe thead th {\n",
       "        text-align: right;\n",
       "    }\n",
       "</style>\n",
       "<table border=\"1\" class=\"dataframe\">\n",
       "  <thead>\n",
       "    <tr style=\"text-align: right;\">\n",
       "      <th></th>\n",
       "      <th>customer__firstname</th>\n",
       "      <th>customer__lastname</th>\n",
       "      <th>record__item__price__sum</th>\n",
       "    </tr>\n",
       "  </thead>\n",
       "  <tbody>\n",
       "    <tr>\n",
       "      <th>0</th>\n",
       "      <td>Thomas</td>\n",
       "      <td>Johnson</td>\n",
       "      <td>16380</td>\n",
       "    </tr>\n",
       "    <tr>\n",
       "      <th>1</th>\n",
       "      <td>Bob</td>\n",
       "      <td>Johnson</td>\n",
       "      <td>15600</td>\n",
       "    </tr>\n",
       "    <tr>\n",
       "      <th>2</th>\n",
       "      <td>Claire</td>\n",
       "      <td>Wilson</td>\n",
       "      <td>14040</td>\n",
       "    </tr>\n",
       "  </tbody>\n",
       "</table>\n",
       "</div>"
      ],
      "text/plain": [
       "  customer__firstname customer__lastname record__item__price__sum\n",
       "0              Thomas            Johnson                    16380\n",
       "1                 Bob            Johnson                    15600\n",
       "2              Claire             Wilson                    14040"
      ]
     },
     "execution_count": 11,
     "metadata": {},
     "output_type": "execute_result"
    }
   ],
   "source": [
    "#Q10 Between January and March 2017, Who are top-3 customers that paid most for Coffee?\n",
    "# show total payment\n",
    "\n",
    "x=Transaction.objects.filter(\n",
    "        datetime__month__gte=1,\n",
    "        datetime__month__lte=3,\n",
    "        datetime__year=2017,\n",
    "        record__item__name='Coffee'\n",
    "    )\\\n",
    "    .values(\n",
    "        'customer__firstname',\n",
    "        'customer__lastname',\n",
    "    )\\\n",
    "    .annotate(Sum('record__item__price'))\\\n",
    "    .order_by('-record__item__price__sum')[:3]\n",
    "pd.DataFrame(x)"
   ]
  },
  {
   "cell_type": "code",
   "execution_count": null,
   "metadata": {},
   "outputs": [],
   "source": []
  }
 ],
 "metadata": {
  "kernelspec": {
   "display_name": "Django Shell-Plus",
   "language": "python",
   "name": "django_extensions"
  },
  "language_info": {
   "codemirror_mode": {
    "name": "ipython",
    "version": 3
   },
   "file_extension": ".py",
   "mimetype": "text/x-python",
   "name": "python",
   "nbconvert_exporter": "python",
   "pygments_lexer": "ipython3",
   "version": "3.6.6"
  }
 },
 "nbformat": 4,
 "nbformat_minor": 2
}
