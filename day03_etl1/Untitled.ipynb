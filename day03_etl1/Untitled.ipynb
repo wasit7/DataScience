{
 "cells": [
  {
   "cell_type": "code",
   "execution_count": 4,
   "metadata": {},
   "outputs": [],
   "source": [
    "from cassandra.cluster import Cluster\n",
    "from cassandra.auth import PlainTextAuthProvider\n",
    "\n",
    "auth_provider = PlainTextAuthProvider(\n",
    "        username='cassandra', password='cassandra')\n",
    "cluster = Cluster(contact_points=['localhost'],\n",
    "                  auth_provider=auth_provider)\n",
    "connection.setup(hosts=['localhost'],default_keyspace='bem',auth_provider=auth_provider)"
   ]
  },
  {
   "cell_type": "code",
   "execution_count": 7,
   "metadata": {},
   "outputs": [],
   "source": [
    "import uuid\n",
    "from cassandra.cqlengine import columns\n",
    "from cassandra.cqlengine import connection\n",
    "from datetime import datetime\n",
    "from cassandra.cqlengine.management import sync_table\n",
    "from cassandra.cqlengine.models import Model\n",
    "\n",
    "#first, define a model\n",
    "class ExampleModel(Model):\n",
    "    example_id      = columns.UUID(primary_key=True, default=uuid.uuid4)\n",
    "    example_type    = columns.Integer(index=True)\n",
    "    created_at      = columns.DateTime()\n",
    "    description     = columns.Text(required=False)\n",
    "    \n",
    "CQLENG_ALLOW_SCHEMA_MANAGEMENT = 'CQLENG_ALLOW_SCHEMA_MANAGEMENT'\n",
    "sync_table(ExampleModel)"
   ]
  },
  {
   "cell_type": "code",
   "execution_count": 8,
   "metadata": {},
   "outputs": [
    {
     "data": {
      "text/plain": [
       "ExampleModel(example_id=UUID('35861b25-e99a-4f3f-bf1b-5ffc42c49350'), example_type=0, created_at=datetime.datetime(2019, 4, 3, 20, 18, 37, 314455), description='example1')"
      ]
     },
     "execution_count": 8,
     "metadata": {},
     "output_type": "execute_result"
    }
   ],
   "source": [
    "ExampleModel.create(example_type=0, description=\"example1\", created_at=datetime.now())"
   ]
  },
  {
   "cell_type": "code",
   "execution_count": 9,
   "metadata": {},
   "outputs": [
    {
     "name": "stdout",
     "output_type": "stream",
     "text": [
      "35861b25-e99a-4f3f-bf1b-5ffc42c49350\n"
     ]
    }
   ],
   "source": [
    "for i in ExampleModel.objects.all():\n",
    "    print(i.example_id)"
   ]
  },
  {
   "cell_type": "code",
   "execution_count": null,
   "metadata": {},
   "outputs": [],
   "source": []
  }
 ],
 "metadata": {
  "kernelspec": {
   "display_name": "Python 3",
   "language": "python",
   "name": "python3"
  },
  "language_info": {
   "codemirror_mode": {
    "name": "ipython",
    "version": 3
   },
   "file_extension": ".py",
   "mimetype": "text/x-python",
   "name": "python",
   "nbconvert_exporter": "python",
   "pygments_lexer": "ipython3",
   "version": "3.6.6"
  }
 },
 "nbformat": 4,
 "nbformat_minor": 2
}
