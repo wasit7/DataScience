{
 "cells": [
  {
   "cell_type": "code",
   "execution_count": 10,
   "metadata": {},
   "outputs": [],
   "source": [
    "from cassandra.cluster import Cluster\n",
    "from cassandra.auth import PlainTextAuthProvider\n",
    "from cassandra.cqlengine import connection\n",
    "auth_provider = PlainTextAuthProvider(\n",
    "        username='cassandra', password='cassandra')\n",
    "# cluster = Cluster(contact_points=['bem.ei.team'],\n",
    "#                   auth_provider=auth_provider)\n",
    "connection.setup(hosts=['bem.ei.team'],default_keyspace='bem',auth_provider=auth_provider)"
   ]
  },
  {
   "cell_type": "code",
   "execution_count": 11,
   "metadata": {},
   "outputs": [],
   "source": [
    "import uuid\n",
    "from cassandra.cqlengine import columns\n",
    "from cassandra.cqlengine.management import sync_table\n",
    "from cassandra.cqlengine.models import Model\n",
    "\n",
    "class Item(Model):\n",
    "    id   = columns.UUID(primary_key=True, default=uuid.uuid4)\n",
    "    name = columns.Text()\n",
    "    price = columns.Decimal()\n",
    "\n",
    "CQLENG_ALLOW_SCHEMA_MANAGEMENT = 'CQLENG_ALLOW_SCHEMA_MANAGEMENT'\n",
    "sync_table(Item)"
   ]
  },
  {
   "cell_type": "code",
   "execution_count": 12,
   "metadata": {},
   "outputs": [
    {
     "data": {
      "text/plain": [
       "Item(id=UUID('fb8fd558-6777-402c-bdad-3fa37f82d3a5'), name='Apple', price=Decimal('30.0'))"
      ]
     },
     "execution_count": 12,
     "metadata": {},
     "output_type": "execute_result"
    }
   ],
   "source": [
    "Item.create(name='Banana',price=20.0)\n",
    "Item.create(name='Apple',price=30.0)"
   ]
  },
  {
   "cell_type": "code",
   "execution_count": 13,
   "metadata": {},
   "outputs": [
    {
     "name": "stdout",
     "output_type": "stream",
     "text": [
      "SELECT * FROM bem.item LIMIT 10000\n"
     ]
    }
   ],
   "source": [
    "print(Item.objects.all())"
   ]
  },
  {
   "cell_type": "code",
   "execution_count": 14,
   "metadata": {},
   "outputs": [
    {
     "name": "stdout",
     "output_type": "stream",
     "text": [
      "fb8fd558-6777-402c-bdad-3fa37f82d3a5 Apple 30.0\n",
      "039c46f7-26e3-4406-957c-c961391ca866 Banana 20.0\n",
      "869f9ceb-cebe-485f-8557-8e70c03487fb Banana 20.0\n",
      "19a81947-0a7a-435a-a8cc-265849b1f09c Apple 30.0\n",
      "3882eb04-6cba-460e-8e5d-95ae8950e03b Apple 30.0\n",
      "a22ae658-8e59-4eb9-b8a5-a280be64b094 Banana 20.0\n",
      "b0691e25-9724-451d-834f-5df09b1b6f20 Banana 20.0\n",
      "dc6d54ed-6b1a-4e2f-bedb-cbac8ca808ea Apple 30.0\n",
      "3fda8cc8-5dbc-4d15-ac0d-52d605575547 Banana 20.0\n",
      "575cff4d-2b8e-48ff-8c91-fb58dcc61a5f Apple 30.0\n",
      "0b20612a-8ae4-4ab4-981b-923391e89f20 Apple 30.0\n",
      "04c49006-5f10-4dfa-bca6-9104ea38dbb3 Banana 20.0\n",
      "302a64da-b880-401e-84d3-bf13ac7bb8bc Apple 30.0\n"
     ]
    }
   ],
   "source": [
    "for i in Item.objects.all():\n",
    "    print(i.id,i.name,i.price)"
   ]
  },
  {
   "cell_type": "code",
   "execution_count": null,
   "metadata": {},
   "outputs": [],
   "source": []
  }
 ],
 "metadata": {
  "kernelspec": {
   "display_name": "Python 3",
   "language": "python",
   "name": "python3"
  },
  "language_info": {
   "codemirror_mode": {
    "name": "ipython",
    "version": 3
   },
   "file_extension": ".py",
   "mimetype": "text/x-python",
   "name": "python",
   "nbconvert_exporter": "python",
   "pygments_lexer": "ipython3",
   "version": "3.6.6"
  }
 },
 "nbformat": 4,
 "nbformat_minor": 2
}
