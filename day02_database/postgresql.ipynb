{
 "cells": [
  {
   "cell_type": "markdown",
   "metadata": {},
   "source": [
    "# PostgreSQL in Python using SQLAlchemy\n",
    "\n",
    "## The Old Way of Writing Database Code in Python\n",
    "We're going to use the library `sqlite3` to create a simple database with two tables **Person** and **Address** in the following design:\n",
    "\n",
    "![db_design](https://www.pythoncentral.io/wp-content/uploads/2013/04/SQLAlchemyPersonAddress.png)\n",
    "\n",
    "To create tables and insert data into tables, type:"
   ]
  },
  {
   "cell_type": "code",
   "execution_count": 1,
   "metadata": {},
   "outputs": [],
   "source": [
    "import sqlite3\n",
    "conn = sqlite3.connect('example.db')\n",
    " \n",
    "c = conn.cursor()\n",
    "c.execute('''\n",
    "          CREATE TABLE person\n",
    "          (id INTEGER PRIMARY KEY ASC, name varchar(250) NOT NULL)\n",
    "          ''')\n",
    "c.execute('''\n",
    "          CREATE TABLE address\n",
    "          (id INTEGER PRIMARY KEY ASC, street_name varchar(250), street_number varchar(250),\n",
    "           post_code varchar(250) NOT NULL, person_id INTEGER NOT NULL,\n",
    "           FOREIGN KEY(person_id) REFERENCES person(id))\n",
    "          ''')\n",
    " \n",
    "c.execute('''\n",
    "          INSERT INTO person VALUES(1, 'Sarun Gulyanon')\n",
    "          ''')\n",
    "c.execute('''\n",
    "          INSERT INTO address VALUES(1, 'Newington Road', '15', '12121', 1)\n",
    "          ''')\n",
    " \n",
    "conn.commit()\n",
    "conn.close()"
   ]
  },
  {
   "cell_type": "markdown",
   "metadata": {},
   "source": [
    "To retrieve data from databases, type:"
   ]
  },
  {
   "cell_type": "code",
   "execution_count": 2,
   "metadata": {},
   "outputs": [
    {
     "name": "stdout",
     "output_type": "stream",
     "text": [
      "[(1, 'Sarun Gulyanon')]\n",
      "[(1, 'Newington Road', '15', '12121', 1)]\n"
     ]
    }
   ],
   "source": [
    "conn = sqlite3.connect('example.db')\n",
    "c = conn.cursor()\n",
    "c.execute('SELECT * FROM person')\n",
    "print(c.fetchall())\n",
    "c.execute('SELECT * FROM address')\n",
    "print(c.fetchall())"
   ]
  },
  {
   "cell_type": "code",
   "execution_count": 3,
   "metadata": {},
   "outputs": [],
   "source": [
    "c.execute('DROP TABLE person')\n",
    "c.execute('DROP TABLE address')\n",
    "conn.close()"
   ]
  },
  {
   "cell_type": "markdown",
   "metadata": {},
   "source": [
    "----\n",
    "\n",
    "## Python's SQLAlchemy and Declarative\n",
    "There are three most important components in writing SQLAlchemy code:\n",
    "\n",
    "* A Table that represents a table in a database.\n",
    "* A mapper that maps a Python class to a table in a database.\n",
    "* A class object that defines how a database record maps to a normal Python object.\n",
    "\n",
    "Instead of having to write code for Table, mapper and the class object at different places, SQLAlchemy's declarative allows a Table, a mapper and a class object to be defined at once in one class definition.\n",
    "\n",
    "The following declarative definitions specify the same tables:"
   ]
  },
  {
   "cell_type": "code",
   "execution_count": 4,
   "metadata": {},
   "outputs": [
    {
     "name": "stdout",
     "output_type": "stream",
     "text": [
      "Requirement already satisfied: sqlalchemy in /home/sarung/anaconda3/lib/python3.7/site-packages (1.2.15)\n"
     ]
    }
   ],
   "source": [
    "!pip install sqlalchemy"
   ]
  },
  {
   "cell_type": "code",
   "execution_count": 5,
   "metadata": {},
   "outputs": [],
   "source": [
    "from sqlalchemy import Column, ForeignKey, Integer, String\n",
    "from sqlalchemy.ext.declarative import declarative_base\n",
    "from sqlalchemy.orm import relationship\n",
    "from sqlalchemy import create_engine\n",
    " \n",
    "Base = declarative_base()\n",
    " \n",
    "class Person(Base):\n",
    "    __tablename__ = 'person'\n",
    "    # Here we define columns for the table person\n",
    "    # Notice that each column is also a normal Python instance attribute.\n",
    "    id = Column(Integer, primary_key=True)\n",
    "    name = Column(String(250), nullable=False)\n",
    "    \n",
    "class Address(Base):\n",
    "    __tablename__ = 'address'\n",
    "    # Here we define columns for the table address.\n",
    "    # Notice that each column is also a normal Python instance attribute.\n",
    "    id = Column(Integer, primary_key=True)\n",
    "    street_name = Column(String(250))\n",
    "    street_number = Column(String(250))\n",
    "    post_code = Column(String(250), nullable=False)\n",
    "    person_id = Column(Integer, ForeignKey('person.id'))\n",
    "    person = relationship(Person)\n",
    "\n",
    "# Create an engine that stores data in the local directory's\n",
    "# sqlalchemy_example.db file.\n",
    "engine = create_engine('sqlite:///sqlalchemy_example.db')\n",
    " \n",
    "# Create all tables in the engine. This is equivalent to \"Create Table\"\n",
    "# statements in raw SQL.\n",
    "Base.metadata.create_all(engine)\n"
   ]
  },
  {
   "cell_type": "markdown",
   "metadata": {},
   "source": [
    "Add records into the database."
   ]
  },
  {
   "cell_type": "code",
   "execution_count": 6,
   "metadata": {},
   "outputs": [],
   "source": [
    "from sqlalchemy import create_engine\n",
    "from sqlalchemy.orm import sessionmaker\n",
    " \n",
    "engine = create_engine('sqlite:///sqlalchemy_example.db')\n",
    "# Bind the engine to the metadata of the Base class so that the\n",
    "# declaratives can be accessed through a DBSession instance\n",
    "Base.metadata.bind = engine\n",
    " \n",
    "DBSession = sessionmaker(bind=engine)\n",
    "# A DBSession() instance establishes all conversations with the database\n",
    "# and represents a \"staging zone\" for all the objects loaded into the\n",
    "# database session object. Any change made against the objects in the\n",
    "# session won't be persisted into the database until you call\n",
    "# session.commit(). If you're not happy about the changes, you can\n",
    "# revert all of them back to the last commit by calling\n",
    "# session.rollback()\n",
    "session = DBSession()\n",
    " \n",
    "# Insert a Person in the person table\n",
    "new_person = Person(name='John Doe')\n",
    "session.add(new_person)\n",
    "session.commit()\n",
    " \n",
    "# Insert an Address in the address table\n",
    "new_address = Address(street_name='North Street', street_number='21', \n",
    "                      post_code='46202', person=new_person)\n",
    "session.add(new_address)\n",
    "session.commit()"
   ]
  },
  {
   "cell_type": "markdown",
   "metadata": {},
   "source": [
    "To query, type:"
   ]
  },
  {
   "cell_type": "code",
   "execution_count": 7,
   "metadata": {},
   "outputs": [
    {
     "name": "stdout",
     "output_type": "stream",
     "text": [
      "[<__main__.Person object at 0x7f19a41da9b0>]\n",
      "John Doe\n",
      "[<__main__.Address object at 0x7f19a4163320>]\n",
      "<__main__.Address object at 0x7f19a4163518>\n",
      "1 North Street 21 46202 1\n"
     ]
    }
   ],
   "source": [
    "engine = create_engine('sqlite:///sqlalchemy_example.db')\n",
    "Base.metadata.bind = engine\n",
    "\n",
    "DBSession = sessionmaker()\n",
    "DBSession.bind = engine\n",
    "session = DBSession()\n",
    "# Make a query to find all Persons in the database\n",
    "print(session.query(Person).all())\n",
    "\n",
    "# Return the first Person from all Persons in the database\n",
    "person = session.query(Person).first()\n",
    "print(person.name)\n",
    "\n",
    "# Find all Address whose person field is pointing to the person object\n",
    "print(session.query(Address).filter(Address.person == person).all())\n",
    "\n",
    "# Retrieve one Address whose person field is point to the person object\n",
    "print(session.query(Address).filter(Address.person == person).one())\n",
    "\n",
    "address = session.query(Address).filter(Address.person == person).one()\n",
    "print(address.id, address.street_name, address.street_number, \n",
    "      address.post_code, address.person_id)"
   ]
  },
  {
   "cell_type": "markdown",
   "metadata": {},
   "source": [
    "----\n",
    "\n",
    "## SQLAlchemy Core\n",
    "\n",
    "SQLAlchemy core uses SQL Expression Language that provides a schema-centric usage paradigm"
   ]
  },
  {
   "cell_type": "markdown",
   "metadata": {},
   "source": [
    "### Connect to Database\n",
    "Use `create_engine` with this pattern `dialect[+driver]://user:password@host/dbname`:"
   ]
  },
  {
   "cell_type": "code",
   "execution_count": 8,
   "metadata": {},
   "outputs": [],
   "source": [
    "from sqlalchemy import create_engine\n",
    "engine = create_engine('sqlite:///college.db', echo = True)"
   ]
  },
  {
   "cell_type": "markdown",
   "metadata": {},
   "source": [
    "### Create Table\n",
    "\n",
    "Metadata is a collection of Table objects and their associated schema constructs. Use `Table` to define the schema and use `meta.create_all` to create the table:"
   ]
  },
  {
   "cell_type": "code",
   "execution_count": 9,
   "metadata": {},
   "outputs": [
    {
     "name": "stdout",
     "output_type": "stream",
     "text": [
      "2019-03-25 19:45:25,831 INFO sqlalchemy.engine.base.Engine SELECT CAST('test plain returns' AS VARCHAR(60)) AS anon_1\n",
      "2019-03-25 19:45:25,832 INFO sqlalchemy.engine.base.Engine ()\n",
      "2019-03-25 19:45:25,832 INFO sqlalchemy.engine.base.Engine SELECT CAST('test unicode returns' AS VARCHAR(60)) AS anon_1\n",
      "2019-03-25 19:45:25,833 INFO sqlalchemy.engine.base.Engine ()\n",
      "2019-03-25 19:45:25,834 INFO sqlalchemy.engine.base.Engine PRAGMA table_info(\"students\")\n",
      "2019-03-25 19:45:25,834 INFO sqlalchemy.engine.base.Engine ()\n",
      "2019-03-25 19:45:25,835 INFO sqlalchemy.engine.base.Engine \n",
      "CREATE TABLE students (\n",
      "\tid INTEGER NOT NULL, \n",
      "\tname VARCHAR, \n",
      "\tlastname VARCHAR, \n",
      "\tPRIMARY KEY (id)\n",
      ")\n",
      "\n",
      "\n",
      "2019-03-25 19:45:25,835 INFO sqlalchemy.engine.base.Engine ()\n",
      "2019-03-25 19:45:25,838 INFO sqlalchemy.engine.base.Engine COMMIT\n"
     ]
    }
   ],
   "source": [
    "from sqlalchemy import Table, Column, Integer, String, MetaData\n",
    "meta = MetaData()\n",
    "\n",
    "students = Table(\n",
    "   'students', meta, \n",
    "   Column('id', Integer, primary_key = True), \n",
    "   Column('name', String), \n",
    "   Column('lastname', String), \n",
    ")\n",
    "\n",
    "meta.create_all(engine)"
   ]
  },
  {
   "cell_type": "markdown",
   "metadata": {},
   "source": [
    "### Insert/Select Records\n",
    "\n",
    "1. Construct SQL expressions using the following methods:"
   ]
  },
  {
   "cell_type": "code",
   "execution_count": 10,
   "metadata": {},
   "outputs": [
    {
     "name": "stdout",
     "output_type": "stream",
     "text": [
      "INSERT INTO students (id, name, lastname) VALUES (:id, :name, :lastname)\n"
     ]
    }
   ],
   "source": [
    "ins = students.insert()\n",
    "print(ins)"
   ]
  },
  {
   "cell_type": "code",
   "execution_count": 11,
   "metadata": {},
   "outputs": [
    {
     "name": "stdout",
     "output_type": "stream",
     "text": [
      "INSERT INTO students (name, lastname) VALUES (:name, :lastname)\n",
      "{'name': 'Carol', 'lastname': 'Danvers'}\n"
     ]
    }
   ],
   "source": [
    "ins = students.insert().values(name = 'Carol', lastname='Danvers')\n",
    "print(ins)\n",
    "print(ins.compile().params)"
   ]
  },
  {
   "cell_type": "code",
   "execution_count": 12,
   "metadata": {},
   "outputs": [
    {
     "name": "stdout",
     "output_type": "stream",
     "text": [
      "UPDATE students SET id=:id, name=:name, lastname=:lastname\n"
     ]
    }
   ],
   "source": [
    "ups = students.update()\n",
    "print(ups)"
   ]
  },
  {
   "cell_type": "code",
   "execution_count": 13,
   "metadata": {},
   "outputs": [
    {
     "name": "stdout",
     "output_type": "stream",
     "text": [
      "DELETE FROM students\n"
     ]
    }
   ],
   "source": [
    "des = students.delete()\n",
    "print(des)"
   ]
  },
  {
   "cell_type": "code",
   "execution_count": 14,
   "metadata": {},
   "outputs": [
    {
     "name": "stdout",
     "output_type": "stream",
     "text": [
      "SELECT students.id, students.name, students.lastname \n",
      "FROM students\n"
     ]
    }
   ],
   "source": [
    "ses = students.select()\n",
    "print(ses)"
   ]
  },
  {
   "cell_type": "markdown",
   "metadata": {},
   "source": [
    "2. Execute expressions\n",
    "\n",
    "Obtain a connection object representing an actively checked out DBAPI connection resource and then execute the expression object."
   ]
  },
  {
   "cell_type": "code",
   "execution_count": 15,
   "metadata": {},
   "outputs": [
    {
     "name": "stdout",
     "output_type": "stream",
     "text": [
      "2019-03-25 19:45:25,867 INFO sqlalchemy.engine.base.Engine INSERT INTO students (name, lastname) VALUES (?, ?)\n",
      "2019-03-25 19:45:25,867 INFO sqlalchemy.engine.base.Engine ('Bruce', 'Wayne')\n",
      "2019-03-25 19:45:25,868 INFO sqlalchemy.engine.base.Engine COMMIT\n"
     ]
    }
   ],
   "source": [
    "conn = engine.connect()\n",
    "\n",
    "ins = students.insert().values(name = 'Bruce', lastname = 'Wayne')\n",
    "result = conn.execute(ins)"
   ]
  },
  {
   "cell_type": "code",
   "execution_count": 16,
   "metadata": {},
   "outputs": [
    {
     "name": "stdout",
     "output_type": "stream",
     "text": [
      "2019-03-25 19:45:25,874 INFO sqlalchemy.engine.base.Engine INSERT INTO students (name, lastname) VALUES (?, ?)\n",
      "2019-03-25 19:45:25,875 INFO sqlalchemy.engine.base.Engine (('Peter', 'Parker'), ('Steve', 'Rogers'), ('Tony', 'Stark'))\n",
      "2019-03-25 19:45:25,876 INFO sqlalchemy.engine.base.Engine COMMIT\n"
     ]
    },
    {
     "data": {
      "text/plain": [
       "<sqlalchemy.engine.result.ResultProxy at 0x7f19a4163fd0>"
      ]
     },
     "execution_count": 16,
     "metadata": {},
     "output_type": "execute_result"
    }
   ],
   "source": [
    "conn.execute(students.insert(), [\n",
    "    {'name':'Peter', 'lastname' : 'Parker'},\n",
    "    {'name':'Steve','lastname' : 'Rogers'},\n",
    "    {'name':'Tony','lastname' : 'Stark'},\n",
    "])"
   ]
  },
  {
   "cell_type": "code",
   "execution_count": 17,
   "metadata": {},
   "outputs": [
    {
     "name": "stdout",
     "output_type": "stream",
     "text": [
      "2019-03-25 19:45:25,888 INFO sqlalchemy.engine.base.Engine SELECT students.id, students.name, students.lastname \n",
      "FROM students\n",
      "2019-03-25 19:45:25,889 INFO sqlalchemy.engine.base.Engine ()\n",
      "ID: 1, Name: Bruce, Lastname: Wayne\n",
      "ID: 2, Name: Peter, Lastname: Parker\n",
      "ID: 3, Name: Steve, Lastname: Rogers\n",
      "ID: 4, Name: Tony, Lastname: Stark\n"
     ]
    }
   ],
   "source": [
    "s = students.select()\n",
    "result = conn.execute(s)\n",
    "for i, name, lastname in result:\n",
    "    print('ID: {}, Name: {}, Lastname: {}'.format(i, name, lastname))"
   ]
  },
  {
   "cell_type": "code",
   "execution_count": 18,
   "metadata": {},
   "outputs": [
    {
     "name": "stdout",
     "output_type": "stream",
     "text": [
      "2019-03-25 19:45:25,900 INFO sqlalchemy.engine.base.Engine SELECT students.id, students.name, students.lastname \n",
      "FROM students \n",
      "WHERE students.id > ?\n",
      "2019-03-25 19:45:25,900 INFO sqlalchemy.engine.base.Engine (2,)\n",
      "(3, 'Steve', 'Rogers')\n",
      "(4, 'Tony', 'Stark')\n"
     ]
    }
   ],
   "source": [
    "s = students.select().where(students.c.id>2)\n",
    "result = conn.execute(s)\n",
    "for row in result:\n",
    "    print(row)"
   ]
  },
  {
   "cell_type": "markdown",
   "metadata": {},
   "source": [
    "### Use SQL"
   ]
  },
  {
   "cell_type": "code",
   "execution_count": 19,
   "metadata": {},
   "outputs": [
    {
     "name": "stdout",
     "output_type": "stream",
     "text": [
      "2019-03-25 19:45:25,908 INFO sqlalchemy.engine.base.Engine SELECT * FROM students\n",
      "2019-03-25 19:45:25,908 INFO sqlalchemy.engine.base.Engine ()\n",
      "(1, 'Bruce', 'Wayne')\n",
      "(2, 'Peter', 'Parker')\n",
      "(3, 'Steve', 'Rogers')\n",
      "(4, 'Tony', 'Stark')\n"
     ]
    }
   ],
   "source": [
    "from sqlalchemy import text\n",
    "t = text(\"SELECT * FROM students\")\n",
    "result = conn.execute(t)\n",
    "for row in result:\n",
    "    print(row)"
   ]
  },
  {
   "cell_type": "code",
   "execution_count": 20,
   "metadata": {},
   "outputs": [
    {
     "name": "stdout",
     "output_type": "stream",
     "text": [
      "2019-03-25 19:45:25,915 INFO sqlalchemy.engine.base.Engine select students.name, students.lastname from students where students.name between ? and ?\n",
      "2019-03-25 19:45:25,915 INFO sqlalchemy.engine.base.Engine ('A', 'Q')\n",
      "('Bruce', 'Wayne')\n",
      "('Peter', 'Parker')\n"
     ]
    }
   ],
   "source": [
    "s = text(\"select students.name, students.lastname from students where students.name between :x and :y\")\n",
    "result = conn.execute(s, x = 'A', y = 'Q').fetchall()\n",
    "for row in result:\n",
    "    print(row)"
   ]
  },
  {
   "cell_type": "code",
   "execution_count": 21,
   "metadata": {},
   "outputs": [
    {
     "name": "stdout",
     "output_type": "stream",
     "text": [
      "2019-03-25 19:45:25,922 INFO sqlalchemy.engine.base.Engine SELECT * from students \n",
      "WHERE students.name between ? and ? AND students.id>1\n",
      "2019-03-25 19:45:25,922 INFO sqlalchemy.engine.base.Engine ('A', 'Q')\n"
     ]
    },
    {
     "data": {
      "text/plain": [
       "[(2, 'Peter', 'Parker')]"
      ]
     },
     "execution_count": 21,
     "metadata": {},
     "output_type": "execute_result"
    }
   ],
   "source": [
    "from sqlalchemy import and_\n",
    "from sqlalchemy.sql import select\n",
    "s = select([text(\"* from students\")]) \\\n",
    ".where(\n",
    "   and_(\n",
    "      text(\"students.name between :x and :y\"),\n",
    "      text(\"students.id>1\")\n",
    "   )\n",
    ")\n",
    "conn.execute(s, x = 'A', y = 'Q').fetchall()"
   ]
  },
  {
   "cell_type": "markdown",
   "metadata": {},
   "source": [
    "### Update Records"
   ]
  },
  {
   "cell_type": "code",
   "execution_count": 22,
   "metadata": {},
   "outputs": [
    {
     "name": "stdout",
     "output_type": "stream",
     "text": [
      "2019-03-25 19:45:25,928 INFO sqlalchemy.engine.base.Engine UPDATE students SET name=?, lastname=? WHERE students.lastname = ?\n",
      "2019-03-25 19:45:25,929 INFO sqlalchemy.engine.base.Engine ('Miles', 'Morales', 'Parker')\n",
      "2019-03-25 19:45:25,930 INFO sqlalchemy.engine.base.Engine COMMIT\n",
      "2019-03-25 19:45:25,932 INFO sqlalchemy.engine.base.Engine SELECT students.id, students.name, students.lastname \n",
      "FROM students\n",
      "2019-03-25 19:45:25,933 INFO sqlalchemy.engine.base.Engine ()\n",
      "(1, 'Bruce', 'Wayne')\n",
      "(2, 'Miles', 'Morales')\n",
      "(3, 'Steve', 'Rogers')\n",
      "(4, 'Tony', 'Stark')\n"
     ]
    }
   ],
   "source": [
    "stmt = students.update() \\\n",
    "        .where(students.c.lastname=='Parker') \\\n",
    "        .values(name='Miles', lastname='Morales')\n",
    "conn.execute(stmt)\n",
    "s = students.select()\n",
    "result = conn.execute(s).fetchall()\n",
    "for row in result:\n",
    "    print(row)"
   ]
  },
  {
   "cell_type": "markdown",
   "metadata": {},
   "source": [
    "### Delete Records"
   ]
  },
  {
   "cell_type": "code",
   "execution_count": 23,
   "metadata": {},
   "outputs": [
    {
     "name": "stdout",
     "output_type": "stream",
     "text": [
      "2019-03-25 19:45:25,938 INFO sqlalchemy.engine.base.Engine DELETE FROM students WHERE students.id > ?\n",
      "2019-03-25 19:45:25,939 INFO sqlalchemy.engine.base.Engine (2,)\n",
      "2019-03-25 19:45:25,940 INFO sqlalchemy.engine.base.Engine COMMIT\n",
      "2019-03-25 19:45:25,943 INFO sqlalchemy.engine.base.Engine SELECT students.id, students.name, students.lastname \n",
      "FROM students\n",
      "2019-03-25 19:45:25,944 INFO sqlalchemy.engine.base.Engine ()\n",
      "(1, 'Bruce', 'Wayne')\n",
      "(2, 'Miles', 'Morales')\n"
     ]
    }
   ],
   "source": [
    "stmt = students.delete().where(students.c.id > 2)\n",
    "conn.execute(stmt)\n",
    "s = students.select()\n",
    "result = conn.execute(s).fetchall()\n",
    "for row in result:\n",
    "    print(row)"
   ]
  },
  {
   "cell_type": "markdown",
   "metadata": {},
   "source": [
    "### Join\n",
    "First, lets create another table called `address`:"
   ]
  },
  {
   "cell_type": "code",
   "execution_count": 24,
   "metadata": {},
   "outputs": [
    {
     "name": "stdout",
     "output_type": "stream",
     "text": [
      "2019-03-25 19:45:25,954 INFO sqlalchemy.engine.base.Engine PRAGMA table_info(\"students\")\n",
      "2019-03-25 19:45:25,954 INFO sqlalchemy.engine.base.Engine ()\n",
      "2019-03-25 19:45:25,956 INFO sqlalchemy.engine.base.Engine PRAGMA table_info(\"addresses\")\n",
      "2019-03-25 19:45:25,956 INFO sqlalchemy.engine.base.Engine ()\n",
      "2019-03-25 19:45:25,957 INFO sqlalchemy.engine.base.Engine \n",
      "CREATE TABLE addresses (\n",
      "\tid INTEGER NOT NULL, \n",
      "\tst_id INTEGER, \n",
      "\tpostal_add VARCHAR, \n",
      "\temail_add VARCHAR, \n",
      "\tPRIMARY KEY (id)\n",
      ")\n",
      "\n",
      "\n",
      "2019-03-25 19:45:25,957 INFO sqlalchemy.engine.base.Engine ()\n",
      "2019-03-25 19:45:25,960 INFO sqlalchemy.engine.base.Engine COMMIT\n",
      "2019-03-25 19:45:25,961 INFO sqlalchemy.engine.base.Engine INSERT INTO addresses (st_id, postal_add, email_add) VALUES (?, ?, ?)\n",
      "2019-03-25 19:45:25,961 INFO sqlalchemy.engine.base.Engine ((1, '1007 Mountain Drive, Gotham', 'batman@avengers.com'), (3, '569 Leaman Place', 'capamerica@avengers.com'), (2, '20 Ingram Street', 'spiderman@avengers.com'), (4, '10880 Malibu Point', 'ironman@avengers.com'))\n",
      "2019-03-25 19:45:25,962 INFO sqlalchemy.engine.base.Engine COMMIT\n"
     ]
    },
    {
     "data": {
      "text/plain": [
       "<sqlalchemy.engine.result.ResultProxy at 0x7f19a41914a8>"
      ]
     },
     "execution_count": 24,
     "metadata": {},
     "output_type": "execute_result"
    }
   ],
   "source": [
    "addresses = Table(\n",
    "   'addresses', meta, \n",
    "   Column('id', Integer, primary_key = True), \n",
    "   Column('st_id', Integer), \n",
    "   Column('postal_add', String), \n",
    "   Column('email_add', String)\n",
    ")\n",
    "meta.create_all(engine)\n",
    "\n",
    "conn.execute(addresses.insert(), [\n",
    "   {'st_id':1, 'postal_add':'1007 Mountain Drive, Gotham', 'email_add':'batman@avengers.com'},\n",
    "   {'st_id':3, 'postal_add':'569 Leaman Place', 'email_add':'capamerica@avengers.com'},\n",
    "   {'st_id':2, 'postal_add':'20 Ingram Street', 'email_add':'spiderman@avengers.com'},\n",
    "   {'st_id':4, 'postal_add':'10880 Malibu Point', 'email_add':'ironman@avengers.com'},\n",
    "])"
   ]
  },
  {
   "cell_type": "markdown",
   "metadata": {},
   "source": [
    "Either use `select` or `join`"
   ]
  },
  {
   "cell_type": "code",
   "execution_count": 25,
   "metadata": {},
   "outputs": [
    {
     "name": "stdout",
     "output_type": "stream",
     "text": [
      "2019-03-25 19:45:25,970 INFO sqlalchemy.engine.base.Engine SELECT students.id, students.name, students.lastname, addresses.id, addresses.st_id, addresses.postal_add, addresses.email_add \n",
      "FROM students, addresses \n",
      "WHERE students.id = addresses.st_id\n",
      "2019-03-25 19:45:25,971 INFO sqlalchemy.engine.base.Engine ()\n",
      "(1, 'Bruce', 'Wayne', 1, 1, '1007 Mountain Drive, Gotham', 'batman@avengers.com')\n",
      "(2, 'Miles', 'Morales', 3, 2, '20 Ingram Street', 'spiderman@avengers.com')\n"
     ]
    }
   ],
   "source": [
    "from sqlalchemy.sql import select\n",
    "s = select([students, addresses]).where(students.c.id == addresses.c.st_id)\n",
    "result = conn.execute(s)\n",
    "\n",
    "for row in result:\n",
    "       print (row)"
   ]
  },
  {
   "cell_type": "code",
   "execution_count": 26,
   "metadata": {},
   "outputs": [
    {
     "name": "stdout",
     "output_type": "stream",
     "text": [
      "students JOIN addresses ON students.id = addresses.st_id\n",
      "2019-03-25 19:45:25,978 INFO sqlalchemy.engine.base.Engine SELECT students.id, students.name, students.lastname, addresses.id, addresses.st_id, addresses.postal_add, addresses.email_add \n",
      "FROM students JOIN addresses ON students.id = addresses.st_id\n",
      "2019-03-25 19:45:25,979 INFO sqlalchemy.engine.base.Engine ()\n"
     ]
    },
    {
     "data": {
      "text/plain": [
       "[(1, 'Bruce', 'Wayne', 1, 1, '1007 Mountain Drive, Gotham', 'batman@avengers.com'),\n",
       " (2, 'Miles', 'Morales', 3, 2, '20 Ingram Street', 'spiderman@avengers.com')]"
      ]
     },
     "execution_count": 26,
     "metadata": {},
     "output_type": "execute_result"
    }
   ],
   "source": [
    "from sqlalchemy import join\n",
    "stmt = students.join(addresses, students.c.id == addresses.c.st_id)\n",
    "print(stmt)\n",
    "result = conn.execute(stmt.select())\n",
    "result.fetchall()"
   ]
  },
  {
   "cell_type": "markdown",
   "metadata": {},
   "source": [
    "### Drop Table"
   ]
  },
  {
   "cell_type": "code",
   "execution_count": 27,
   "metadata": {},
   "outputs": [
    {
     "name": "stdout",
     "output_type": "stream",
     "text": [
      "2019-03-25 19:45:25,985 INFO sqlalchemy.engine.base.Engine SELECT name FROM sqlite_master WHERE type='table' ORDER BY name\n",
      "2019-03-25 19:45:25,986 INFO sqlalchemy.engine.base.Engine ()\n"
     ]
    },
    {
     "data": {
      "text/plain": [
       "['addresses', 'students']"
      ]
     },
     "execution_count": 27,
     "metadata": {},
     "output_type": "execute_result"
    }
   ],
   "source": [
    "engine.table_names()"
   ]
  },
  {
   "cell_type": "code",
   "execution_count": 28,
   "metadata": {},
   "outputs": [
    {
     "name": "stdout",
     "output_type": "stream",
     "text": [
      "2019-03-25 19:45:25,992 INFO sqlalchemy.engine.base.Engine \n",
      "DROP TABLE students\n",
      "2019-03-25 19:45:25,993 INFO sqlalchemy.engine.base.Engine ()\n",
      "2019-03-25 19:45:25,995 INFO sqlalchemy.engine.base.Engine COMMIT\n",
      "2019-03-25 19:45:25,996 INFO sqlalchemy.engine.base.Engine \n",
      "DROP TABLE addresses\n",
      "2019-03-25 19:45:25,997 INFO sqlalchemy.engine.base.Engine ()\n",
      "2019-03-25 19:45:25,999 INFO sqlalchemy.engine.base.Engine COMMIT\n"
     ]
    }
   ],
   "source": [
    "students.drop(engine)\n",
    "addresses.drop(engine)"
   ]
  },
  {
   "cell_type": "code",
   "execution_count": 29,
   "metadata": {},
   "outputs": [
    {
     "name": "stdout",
     "output_type": "stream",
     "text": [
      "2019-03-25 19:45:26,003 INFO sqlalchemy.engine.base.Engine SELECT name FROM sqlite_master WHERE type='table' ORDER BY name\n",
      "2019-03-25 19:45:26,004 INFO sqlalchemy.engine.base.Engine ()\n"
     ]
    },
    {
     "data": {
      "text/plain": [
       "[]"
      ]
     },
     "execution_count": 29,
     "metadata": {},
     "output_type": "execute_result"
    }
   ],
   "source": [
    "engine.table_names()"
   ]
  },
  {
   "cell_type": "markdown",
   "metadata": {},
   "source": [
    "----\n",
    "\n",
    "## SQLAlchemy ORM\n",
    "\n",
    "SQLAlchemy ORM is a domain-centric mode of usage. ORM API facilitates associating user-defined Python classes with database tables, and objects of those classes with rows in their corresponding tables. Changes in states of objects and rows are synchronously matched with each other. SQLAlchemy enables expressing database queries in terms of user defined classes and their defined relationships."
   ]
  },
  {
   "cell_type": "markdown",
   "metadata": {},
   "source": [
    "### Connect Database"
   ]
  },
  {
   "cell_type": "code",
   "execution_count": 30,
   "metadata": {},
   "outputs": [],
   "source": [
    "from sqlalchemy import create_engine\n",
    "engine = create_engine('sqlite:///sales.db', echo = True)"
   ]
  },
  {
   "cell_type": "markdown",
   "metadata": {},
   "source": [
    "### Declare Mapping\n",
    "\n",
    "The `declarative_base()` function is used to create base class. A base class stores a catlog of classes and mapped tables in the Declarative system."
   ]
  },
  {
   "cell_type": "code",
   "execution_count": 31,
   "metadata": {},
   "outputs": [],
   "source": [
    "from sqlalchemy.ext.declarative import declarative_base\n",
    "Base = declarative_base()"
   ]
  },
  {
   "cell_type": "code",
   "execution_count": 32,
   "metadata": {},
   "outputs": [
    {
     "name": "stdout",
     "output_type": "stream",
     "text": [
      "2019-03-25 19:45:26,022 INFO sqlalchemy.engine.base.Engine SELECT CAST('test plain returns' AS VARCHAR(60)) AS anon_1\n",
      "2019-03-25 19:45:26,022 INFO sqlalchemy.engine.base.Engine ()\n",
      "2019-03-25 19:45:26,023 INFO sqlalchemy.engine.base.Engine SELECT CAST('test unicode returns' AS VARCHAR(60)) AS anon_1\n",
      "2019-03-25 19:45:26,023 INFO sqlalchemy.engine.base.Engine ()\n",
      "2019-03-25 19:45:26,024 INFO sqlalchemy.engine.base.Engine PRAGMA table_info(\"customers\")\n",
      "2019-03-25 19:45:26,024 INFO sqlalchemy.engine.base.Engine ()\n",
      "2019-03-25 19:45:26,025 INFO sqlalchemy.engine.base.Engine \n",
      "CREATE TABLE customers (\n",
      "\tid INTEGER NOT NULL, \n",
      "\tname VARCHAR, \n",
      "\taddress VARCHAR, \n",
      "\temail VARCHAR, \n",
      "\tPRIMARY KEY (id)\n",
      ")\n",
      "\n",
      "\n",
      "2019-03-25 19:45:26,026 INFO sqlalchemy.engine.base.Engine ()\n",
      "2019-03-25 19:45:26,028 INFO sqlalchemy.engine.base.Engine COMMIT\n"
     ]
    }
   ],
   "source": [
    "from sqlalchemy import Column, Integer, String\n",
    "\n",
    "class Customers(Base):\n",
    "    __tablename__ = 'customers'\n",
    "    id = Column(Integer, primary_key = True)\n",
    "    name = Column(String)\n",
    "    address = Column(String)\n",
    "    email = Column(String)\n",
    "\n",
    "Base.metadata.create_all(engine)"
   ]
  },
  {
   "cell_type": "markdown",
   "metadata": {},
   "source": [
    "### Session\n",
    "\n",
    "A session object is the handle to database, required in order to interact with the database. Session class is defined using `sessionmaker()` – a configurable session factory method which is bound to the engine object created earlier."
   ]
  },
  {
   "cell_type": "code",
   "execution_count": 33,
   "metadata": {},
   "outputs": [],
   "source": [
    "from sqlalchemy.orm import sessionmaker\n",
    "Session = sessionmaker(bind = engine)\n",
    "session = Session()"
   ]
  },
  {
   "cell_type": "markdown",
   "metadata": {},
   "source": [
    "### Insert Records\n",
    "Insert one record, type:"
   ]
  },
  {
   "cell_type": "code",
   "execution_count": 34,
   "metadata": {},
   "outputs": [
    {
     "name": "stdout",
     "output_type": "stream",
     "text": [
      "2019-03-25 19:45:26,038 INFO sqlalchemy.engine.base.Engine BEGIN (implicit)\n",
      "2019-03-25 19:45:26,039 INFO sqlalchemy.engine.base.Engine INSERT INTO customers (name, address, email) VALUES (?, ?, ?)\n",
      "2019-03-25 19:45:26,039 INFO sqlalchemy.engine.base.Engine ('Bruce Wayne', '1007 Mountain Drive, Gotham', 'batman@avengers.com')\n",
      "2019-03-25 19:45:26,041 INFO sqlalchemy.engine.base.Engine COMMIT\n"
     ]
    }
   ],
   "source": [
    "c1 = Customers(name = 'Bruce Wayne', address = '1007 Mountain Drive, Gotham', email = 'batman@avengers.com')\n",
    "session.add(c1)\n",
    "session.commit()"
   ]
  },
  {
   "cell_type": "markdown",
   "metadata": {},
   "source": [
    "For multiple records, type:"
   ]
  },
  {
   "cell_type": "code",
   "execution_count": 35,
   "metadata": {},
   "outputs": [
    {
     "name": "stdout",
     "output_type": "stream",
     "text": [
      "2019-03-25 19:45:26,049 INFO sqlalchemy.engine.base.Engine BEGIN (implicit)\n",
      "2019-03-25 19:45:26,050 INFO sqlalchemy.engine.base.Engine INSERT INTO customers (name, address, email) VALUES (?, ?, ?)\n",
      "2019-03-25 19:45:26,050 INFO sqlalchemy.engine.base.Engine ('Peter Parker', '20 Ingram Street', 'spiderman@avengers.com')\n",
      "2019-03-25 19:45:26,051 INFO sqlalchemy.engine.base.Engine INSERT INTO customers (name, address, email) VALUES (?, ?, ?)\n",
      "2019-03-25 19:45:26,051 INFO sqlalchemy.engine.base.Engine ('Steve Rogers', '569 Leaman Place', 'capamerica@avengers.com')\n",
      "2019-03-25 19:45:26,052 INFO sqlalchemy.engine.base.Engine INSERT INTO customers (name, address, email) VALUES (?, ?, ?)\n",
      "2019-03-25 19:45:26,052 INFO sqlalchemy.engine.base.Engine ('Tony Stark', '10880 Malibu Point', 'ironman@avengers.com')\n",
      "2019-03-25 19:45:26,053 INFO sqlalchemy.engine.base.Engine COMMIT\n"
     ]
    }
   ],
   "source": [
    "session.add_all([\n",
    "   Customers(name = 'Peter Parker', address = '20 Ingram Street', email = 'spiderman@avengers.com'), \n",
    "   Customers(name = 'Steve Rogers', address = '569 Leaman Place', email = 'capamerica@avengers.com'), \n",
    "   Customers(name = 'Tony Stark', address = '10880 Malibu Point', email = 'ironman@avengers.com')]\n",
    ")\n",
    "session.commit()"
   ]
  },
  {
   "cell_type": "markdown",
   "metadata": {},
   "source": [
    "### Query"
   ]
  },
  {
   "cell_type": "code",
   "execution_count": 36,
   "metadata": {},
   "outputs": [
    {
     "name": "stdout",
     "output_type": "stream",
     "text": [
      "2019-03-25 19:45:26,060 INFO sqlalchemy.engine.base.Engine BEGIN (implicit)\n",
      "2019-03-25 19:45:26,061 INFO sqlalchemy.engine.base.Engine SELECT customers.id AS customers_id, customers.name AS customers_name, customers.address AS customers_address, customers.email AS customers_email \n",
      "FROM customers\n",
      "2019-03-25 19:45:26,062 INFO sqlalchemy.engine.base.Engine ()\n",
      "Name:  Bruce Wayne , Address: 1007 Mountain Drive, Gotham , Email: batman@avengers.com\n",
      "Name:  Peter Parker , Address: 20 Ingram Street , Email: spiderman@avengers.com\n",
      "Name:  Steve Rogers , Address: 569 Leaman Place , Email: capamerica@avengers.com\n",
      "Name:  Tony Stark , Address: 10880 Malibu Point , Email: ironman@avengers.com\n"
     ]
    }
   ],
   "source": [
    "result = session.query(Customers).all()\n",
    "for row in result:\n",
    "    print(\"Name: \",row.name, \", Address:\",row.address, \", Email:\",row.email)"
   ]
  },
  {
   "cell_type": "code",
   "execution_count": 37,
   "metadata": {},
   "outputs": [
    {
     "name": "stdout",
     "output_type": "stream",
     "text": [
      "2019-03-25 19:45:26,068 INFO sqlalchemy.engine.base.Engine SELECT customers.id AS customers_id, customers.name AS customers_name, customers.address AS customers_address, customers.email AS customers_email \n",
      "FROM customers\n",
      "2019-03-25 19:45:26,069 INFO sqlalchemy.engine.base.Engine ()\n",
      "Name:  Bruce Wayne , Address: 1007 Mountain Drive, Gotham , Email: batman@avengers.com\n",
      "Name:  Peter Parker , Address: 20 Ingram Street , Email: spiderman@avengers.com\n",
      "Name:  Steve Rogers , Address: 569 Leaman Place , Email: capamerica@avengers.com\n",
      "Name:  Tony Stark , Address: 10880 Malibu Point , Email: ironman@avengers.com\n"
     ]
    }
   ],
   "source": [
    "from sqlalchemy.orm.query import Query\n",
    "q = Query(Customers, session)\n",
    "for row in q:\n",
    "    print(\"Name: \",row.name, \", Address:\",row.address, \", Email:\",row.email)"
   ]
  },
  {
   "cell_type": "markdown",
   "metadata": {},
   "source": [
    "### Filter\n",
    "Use this pattern `session.query(class).filter(criteria)`."
   ]
  },
  {
   "cell_type": "code",
   "execution_count": 38,
   "metadata": {},
   "outputs": [
    {
     "name": "stdout",
     "output_type": "stream",
     "text": [
      "2019-03-25 19:45:26,075 INFO sqlalchemy.engine.base.Engine SELECT customers.id AS customers_id, customers.name AS customers_name, customers.address AS customers_address, customers.email AS customers_email \n",
      "FROM customers \n",
      "WHERE customers.id > ?\n",
      "2019-03-25 19:45:26,076 INFO sqlalchemy.engine.base.Engine (2,)\n",
      "Name:  Steve Rogers , Address: 569 Leaman Place , Email: capamerica@avengers.com\n",
      "Name:  Tony Stark , Address: 10880 Malibu Point , Email: ironman@avengers.com\n"
     ]
    }
   ],
   "source": [
    "result = session.query(Customers).filter(Customers.id>2)\n",
    "for row in result:\n",
    "    print(\"Name: \",row.name, \", Address:\",row.address, \", Email:\",row.email)"
   ]
  },
  {
   "cell_type": "markdown",
   "metadata": {},
   "source": [
    "### Update Records\n",
    "Data is not updated until it is committed."
   ]
  },
  {
   "cell_type": "code",
   "execution_count": 39,
   "metadata": {},
   "outputs": [
    {
     "name": "stdout",
     "output_type": "stream",
     "text": [
      "2019-03-25 19:45:26,083 INFO sqlalchemy.engine.base.Engine SELECT customers.id AS customers_id, customers.name AS customers_name, customers.address AS customers_address, customers.email AS customers_email \n",
      "FROM customers \n",
      "WHERE customers.id = ?\n",
      "2019-03-25 19:45:26,083 INFO sqlalchemy.engine.base.Engine (2,)\n",
      "Name:  Peter Parker Address: 20 Ingram Street Email: spiderman@avengers.com\n"
     ]
    }
   ],
   "source": [
    "x = session.query(Customers).get(2)\n",
    "print (\"Name: \", x.name, \"Address:\", x.address, \"Email:\", x.email)"
   ]
  },
  {
   "cell_type": "code",
   "execution_count": 40,
   "metadata": {},
   "outputs": [
    {
     "name": "stdout",
     "output_type": "stream",
     "text": [
      "2019-03-25 19:45:26,088 INFO sqlalchemy.engine.base.Engine UPDATE customers SET name=? WHERE customers.id = ?\n",
      "2019-03-25 19:45:26,089 INFO sqlalchemy.engine.base.Engine ('Miles Morales', 2)\n",
      "2019-03-25 19:45:26,090 INFO sqlalchemy.engine.base.Engine COMMIT\n"
     ]
    }
   ],
   "source": [
    "x.name = 'Miles Morales'\n",
    "session.commit()"
   ]
  },
  {
   "cell_type": "code",
   "execution_count": 41,
   "metadata": {},
   "outputs": [
    {
     "name": "stdout",
     "output_type": "stream",
     "text": [
      "2019-03-25 19:45:26,096 INFO sqlalchemy.engine.base.Engine BEGIN (implicit)\n",
      "2019-03-25 19:45:26,097 INFO sqlalchemy.engine.base.Engine SELECT customers.id AS customers_id, customers.name AS customers_name, customers.address AS customers_address, customers.email AS customers_email \n",
      "FROM customers \n",
      "WHERE customers.id = ?\n",
      "2019-03-25 19:45:26,097 INFO sqlalchemy.engine.base.Engine (2,)\n",
      "Name:  Miles Morales Address: 20 Ingram Street Email: spiderman@avengers.com\n"
     ]
    }
   ],
   "source": [
    "x = session.query(Customers).get(2)\n",
    "print (\"Name: \", x.name, \"Address:\", x.address, \"Email:\", x.email)"
   ]
  },
  {
   "cell_type": "markdown",
   "metadata": {},
   "source": [
    "If you want to discard changes, use `rollback`."
   ]
  },
  {
   "cell_type": "code",
   "execution_count": 42,
   "metadata": {},
   "outputs": [
    {
     "name": "stdout",
     "output_type": "stream",
     "text": [
      "2019-03-25 19:45:26,102 INFO sqlalchemy.engine.base.Engine SELECT customers.id AS customers_id, customers.name AS customers_name, customers.address AS customers_address, customers.email AS customers_email \n",
      "FROM customers\n",
      " LIMIT ? OFFSET ?\n",
      "2019-03-25 19:45:26,103 INFO sqlalchemy.engine.base.Engine (1, 0)\n",
      "Name:  Bruce Wayne Address: 1007 Mountain Drive, Gotham Email: batman@avengers.com\n"
     ]
    }
   ],
   "source": [
    "x = session.query(Customers).first()\n",
    "print (\"Name: \", x.name, \"Address:\", x.address, \"Email:\", x.email)"
   ]
  },
  {
   "cell_type": "code",
   "execution_count": 43,
   "metadata": {},
   "outputs": [
    {
     "name": "stdout",
     "output_type": "stream",
     "text": [
      "Name:  Batman Address: 1007 Mountain Drive, Gotham Email: batman@avengers.com\n"
     ]
    }
   ],
   "source": [
    "x.name = 'Batman'\n",
    "print (\"Name: \", x.name, \"Address:\", x.address, \"Email:\", x.email)"
   ]
  },
  {
   "cell_type": "code",
   "execution_count": 44,
   "metadata": {},
   "outputs": [
    {
     "name": "stdout",
     "output_type": "stream",
     "text": [
      "2019-03-25 19:45:26,111 INFO sqlalchemy.engine.base.Engine ROLLBACK\n",
      "2019-03-25 19:45:26,112 INFO sqlalchemy.engine.base.Engine BEGIN (implicit)\n",
      "2019-03-25 19:45:26,113 INFO sqlalchemy.engine.base.Engine SELECT customers.id AS customers_id, customers.name AS customers_name, customers.address AS customers_address, customers.email AS customers_email \n",
      "FROM customers \n",
      "WHERE customers.id = ?\n",
      "2019-03-25 19:45:26,113 INFO sqlalchemy.engine.base.Engine (1,)\n",
      "Name:  Bruce Wayne Address: 1007 Mountain Drive, Gotham Email: batman@avengers.com\n"
     ]
    }
   ],
   "source": [
    "session.rollback()\n",
    "print (\"Name: \", x.name, \"Address:\", x.address, \"Email:\", x.email)"
   ]
  },
  {
   "cell_type": "markdown",
   "metadata": {},
   "source": [
    "Update multiple records"
   ]
  },
  {
   "cell_type": "code",
   "execution_count": 45,
   "metadata": {},
   "outputs": [
    {
     "name": "stdout",
     "output_type": "stream",
     "text": [
      "2019-03-25 19:45:26,118 INFO sqlalchemy.engine.base.Engine UPDATE customers SET name=(? || customers.name) WHERE customers.id != ?\n",
      "2019-03-25 19:45:26,118 INFO sqlalchemy.engine.base.Engine ('Mr.', 2)\n"
     ]
    },
    {
     "data": {
      "text/plain": [
       "3"
      ]
     },
     "execution_count": 45,
     "metadata": {},
     "output_type": "execute_result"
    }
   ],
   "source": [
    "session.query(Customers).filter(Customers.id != 2). \\\n",
    "update({Customers.name:\"Mr.\"+Customers.name}, synchronize_session = False)"
   ]
  },
  {
   "cell_type": "code",
   "execution_count": 46,
   "metadata": {},
   "outputs": [
    {
     "name": "stdout",
     "output_type": "stream",
     "text": [
      "2019-03-25 19:45:26,123 INFO sqlalchemy.engine.base.Engine SELECT customers.id AS customers_id, customers.name AS customers_name, customers.address AS customers_address, customers.email AS customers_email \n",
      "FROM customers\n",
      "2019-03-25 19:45:26,124 INFO sqlalchemy.engine.base.Engine ()\n",
      "Name:  Bruce Wayne Address: 1007 Mountain Drive, Gotham Email: batman@avengers.com\n",
      "Name:  Miles Morales Address: 20 Ingram Street Email: spiderman@avengers.com\n",
      "Name:  Mr.Steve Rogers Address: 569 Leaman Place Email: capamerica@avengers.com\n",
      "Name:  Mr.Tony Stark Address: 10880 Malibu Point Email: ironman@avengers.com\n"
     ]
    }
   ],
   "source": [
    "result = session.query(Customers).all()\n",
    "for x in result:\n",
    "    print (\"Name: \", x.name, \"Address:\", x.address, \"Email:\", x.email)"
   ]
  },
  {
   "cell_type": "code",
   "execution_count": 47,
   "metadata": {},
   "outputs": [
    {
     "name": "stdout",
     "output_type": "stream",
     "text": [
      "2019-03-25 19:45:26,128 INFO sqlalchemy.engine.base.Engine ROLLBACK\n"
     ]
    }
   ],
   "source": [
    "session.close()"
   ]
  },
  {
   "cell_type": "markdown",
   "metadata": {},
   "source": [
    "### Relationship\n",
    "A relationship tells the ORM that these classes should be linked together. It uses the foreign key to determine the nature of this linkage. `relationship.back_populates` allows relationship be expressed in reverse. "
   ]
  },
  {
   "cell_type": "code",
   "execution_count": 48,
   "metadata": {},
   "outputs": [
    {
     "name": "stdout",
     "output_type": "stream",
     "text": [
      "2019-03-25 19:45:26,141 INFO sqlalchemy.engine.base.Engine SELECT CAST('test plain returns' AS VARCHAR(60)) AS anon_1\n",
      "2019-03-25 19:45:26,142 INFO sqlalchemy.engine.base.Engine ()\n",
      "2019-03-25 19:45:26,142 INFO sqlalchemy.engine.base.Engine SELECT CAST('test unicode returns' AS VARCHAR(60)) AS anon_1\n",
      "2019-03-25 19:45:26,143 INFO sqlalchemy.engine.base.Engine ()\n",
      "2019-03-25 19:45:26,143 INFO sqlalchemy.engine.base.Engine PRAGMA table_info(\"customers\")\n",
      "2019-03-25 19:45:26,143 INFO sqlalchemy.engine.base.Engine ()\n",
      "2019-03-25 19:45:26,144 INFO sqlalchemy.engine.base.Engine PRAGMA table_info(\"invoices\")\n",
      "2019-03-25 19:45:26,145 INFO sqlalchemy.engine.base.Engine ()\n",
      "2019-03-25 19:45:26,145 INFO sqlalchemy.engine.base.Engine \n",
      "CREATE TABLE invoices (\n",
      "\tid INTEGER NOT NULL, \n",
      "\tinvno INTEGER, \n",
      "\tamount INTEGER, \n",
      "\tcustid INTEGER, \n",
      "\tPRIMARY KEY (id), \n",
      "\tFOREIGN KEY(custid) REFERENCES customers (id)\n",
      ")\n",
      "\n",
      "\n",
      "2019-03-25 19:45:26,146 INFO sqlalchemy.engine.base.Engine ()\n",
      "2019-03-25 19:45:26,148 INFO sqlalchemy.engine.base.Engine COMMIT\n"
     ]
    }
   ],
   "source": [
    "from sqlalchemy import create_engine, ForeignKey, Column, Integer, String\n",
    "from sqlalchemy.ext.declarative import declarative_base\n",
    "from sqlalchemy.orm import relationship\n",
    "\n",
    "engine = create_engine('sqlite:///sales.db', echo = True)\n",
    "Base = declarative_base()\n",
    "\n",
    "class Customer(Base):\n",
    "    __tablename__ = 'customers'\n",
    "    id = Column(Integer, primary_key = True)\n",
    "    name = Column(String)\n",
    "    address = Column(String)\n",
    "    email = Column(String)\n",
    "\n",
    "    def __repr__(self):\n",
    "        return \"<Customer(name={}, addr={}, email={})>\".format(self.name, self.address, self.email)\n",
    "\n",
    "class Invoice(Base):\n",
    "    __tablename__ = 'invoices'\n",
    "    id = Column(Integer, primary_key = True)\n",
    "    invno = Column(Integer)\n",
    "    amount = Column(Integer)\n",
    "    custid = Column(Integer, ForeignKey('customers.id'))\n",
    "    customer = relationship(\"Customer\", back_populates = \"invoices\")\n",
    "    \n",
    "    def __repr__(self):\n",
    "        return \"<Invoice(invno={}, amount={}, custid={})>\".format(self.invno, self.amount, self.custid)\n",
    "\n",
    "Customer.invoices = relationship(\"Invoice\", order_by=Invoice.id, back_populates=\"customer\")\n",
    "Base.metadata.create_all(engine)"
   ]
  },
  {
   "cell_type": "code",
   "execution_count": 49,
   "metadata": {},
   "outputs": [
    {
     "data": {
      "text/plain": [
       "[]"
      ]
     },
     "execution_count": 49,
     "metadata": {},
     "output_type": "execute_result"
    }
   ],
   "source": [
    "mary = Customer(name='Mary', address='21 North Street', email='mary@gmail.com')\n",
    "mary.invoices"
   ]
  },
  {
   "cell_type": "code",
   "execution_count": 50,
   "metadata": {},
   "outputs": [],
   "source": [
    "mary.invoices = [Invoice(invno=123, amount=500),\n",
    "                 Invoice(invno=273, amount=1000)]"
   ]
  },
  {
   "cell_type": "markdown",
   "metadata": {},
   "source": [
    "You can query both ends of the relationship."
   ]
  },
  {
   "cell_type": "code",
   "execution_count": 51,
   "metadata": {},
   "outputs": [
    {
     "data": {
      "text/plain": [
       "<Invoice(invno=273, amount=1000, custid=None)>"
      ]
     },
     "execution_count": 51,
     "metadata": {},
     "output_type": "execute_result"
    }
   ],
   "source": [
    "mary.invoices[1]"
   ]
  },
  {
   "cell_type": "code",
   "execution_count": 52,
   "metadata": {},
   "outputs": [
    {
     "data": {
      "text/plain": [
       "<Customer(name=Mary, addr=21 North Street, email=mary@gmail.com)>"
      ]
     },
     "execution_count": 52,
     "metadata": {},
     "output_type": "execute_result"
    }
   ],
   "source": [
    "mary.invoices[1].customer"
   ]
  },
  {
   "cell_type": "code",
   "execution_count": 53,
   "metadata": {},
   "outputs": [
    {
     "name": "stdout",
     "output_type": "stream",
     "text": [
      "2019-03-25 19:45:26,172 INFO sqlalchemy.engine.base.Engine BEGIN (implicit)\n",
      "2019-03-25 19:45:26,173 INFO sqlalchemy.engine.base.Engine INSERT INTO customers (name, address, email) VALUES (?, ?, ?)\n",
      "2019-03-25 19:45:26,174 INFO sqlalchemy.engine.base.Engine ('Mary', '21 North Street', 'mary@gmail.com')\n",
      "2019-03-25 19:45:26,175 INFO sqlalchemy.engine.base.Engine INSERT INTO invoices (invno, amount, custid) VALUES (?, ?, ?)\n",
      "2019-03-25 19:45:26,175 INFO sqlalchemy.engine.base.Engine (123, 500, 5)\n",
      "2019-03-25 19:45:26,176 INFO sqlalchemy.engine.base.Engine INSERT INTO invoices (invno, amount, custid) VALUES (?, ?, ?)\n",
      "2019-03-25 19:45:26,176 INFO sqlalchemy.engine.base.Engine (273, 1000, 5)\n",
      "2019-03-25 19:45:26,177 INFO sqlalchemy.engine.base.Engine COMMIT\n"
     ]
    }
   ],
   "source": [
    "from sqlalchemy.orm import sessionmaker\n",
    "Session = sessionmaker(bind = engine)\n",
    "session = Session()\n",
    "session.add(mary)\n",
    "session.commit()"
   ]
  },
  {
   "cell_type": "code",
   "execution_count": 54,
   "metadata": {},
   "outputs": [
    {
     "name": "stdout",
     "output_type": "stream",
     "text": [
      "2019-03-25 19:45:26,183 INFO sqlalchemy.engine.base.Engine BEGIN (implicit)\n",
      "2019-03-25 19:45:26,183 INFO sqlalchemy.engine.base.Engine SELECT customers.id AS customers_id, customers.name AS customers_name, customers.address AS customers_address, customers.email AS customers_email \n",
      "FROM customers \n",
      "WHERE customers.name = ?\n",
      "2019-03-25 19:45:26,184 INFO sqlalchemy.engine.base.Engine ('Mary',)\n"
     ]
    },
    {
     "data": {
      "text/plain": [
       "<Customer(name=Mary, addr=21 North Street, email=mary@gmail.com)>"
      ]
     },
     "execution_count": 54,
     "metadata": {},
     "output_type": "execute_result"
    }
   ],
   "source": [
    "mary = session.query(Customer).filter_by(name='Mary').one()\n",
    "mary"
   ]
  },
  {
   "cell_type": "markdown",
   "metadata": {},
   "source": [
    "ORM resolves the foreign key for you. When we accessed the invoice collection, SQL was suddenly issued. This is an example of a **lazy loading** relationship."
   ]
  },
  {
   "cell_type": "code",
   "execution_count": 55,
   "metadata": {},
   "outputs": [
    {
     "name": "stdout",
     "output_type": "stream",
     "text": [
      "2019-03-25 19:45:26,190 INFO sqlalchemy.engine.base.Engine SELECT invoices.id AS invoices_id, invoices.invno AS invoices_invno, invoices.amount AS invoices_amount, invoices.custid AS invoices_custid \n",
      "FROM invoices \n",
      "WHERE ? = invoices.custid ORDER BY invoices.id\n",
      "2019-03-25 19:45:26,191 INFO sqlalchemy.engine.base.Engine (5,)\n"
     ]
    },
    {
     "data": {
      "text/plain": [
       "[<Invoice(invno=123, amount=500, custid=5)>,\n",
       " <Invoice(invno=273, amount=1000, custid=5)>]"
      ]
     },
     "execution_count": 55,
     "metadata": {},
     "output_type": "execute_result"
    }
   ],
   "source": [
    "mary.invoices"
   ]
  },
  {
   "cell_type": "code",
   "execution_count": 56,
   "metadata": {},
   "outputs": [
    {
     "name": "stdout",
     "output_type": "stream",
     "text": [
      "2019-03-25 19:45:26,197 INFO sqlalchemy.engine.base.Engine SELECT customers.id AS customers_id, customers.name AS customers_name, customers.address AS customers_address, customers.email AS customers_email, invoices.id AS invoices_id, invoices.invno AS invoices_invno, invoices.amount AS invoices_amount, invoices.custid AS invoices_custid \n",
      "FROM customers, invoices \n",
      "WHERE customers.id = invoices.custid\n",
      "2019-03-25 19:45:26,197 INFO sqlalchemy.engine.base.Engine ()\n",
      "<Customer(name=Mary, addr=21 North Street, email=mary@gmail.com)> <Invoice(invno=123, amount=500, custid=5)>\n",
      "<Customer(name=Mary, addr=21 North Street, email=mary@gmail.com)> <Invoice(invno=273, amount=1000, custid=5)>\n"
     ]
    }
   ],
   "source": [
    "for u, a in session.query(Customer, Invoice).\\\n",
    "        filter(Customer.id==Invoice.custid).\\\n",
    "        all():\n",
    "    print(u, a)"
   ]
  },
  {
   "cell_type": "markdown",
   "metadata": {},
   "source": [
    "#### Eager Loading\n",
    "To reduce the number of queries, apply an **eager load** to the query operation (at the cost of \"heavier\" call)."
   ]
  },
  {
   "cell_type": "code",
   "execution_count": 57,
   "metadata": {},
   "outputs": [
    {
     "name": "stdout",
     "output_type": "stream",
     "text": [
      "2019-03-25 19:45:26,204 INFO sqlalchemy.engine.base.Engine SELECT customers.id AS customers_id, customers.name AS customers_name, customers.address AS customers_address, customers.email AS customers_email, invoices_1.id AS invoices_1_id, invoices_1.invno AS invoices_1_invno, invoices_1.amount AS invoices_1_amount, invoices_1.custid AS invoices_1_custid \n",
      "FROM customers LEFT OUTER JOIN invoices AS invoices_1 ON customers.id = invoices_1.custid \n",
      "WHERE customers.name = ? ORDER BY invoices_1.id\n",
      "2019-03-25 19:45:26,204 INFO sqlalchemy.engine.base.Engine ('Mary',)\n"
     ]
    },
    {
     "data": {
      "text/plain": [
       "<Customer(name=Mary, addr=21 North Street, email=mary@gmail.com)>"
      ]
     },
     "execution_count": 57,
     "metadata": {},
     "output_type": "execute_result"
    }
   ],
   "source": [
    "from sqlalchemy.orm import joinedload\n",
    "\n",
    "mary = session.query(Customer).\\\n",
    "        options(joinedload(Customer.invoices)).\\\n",
    "        filter(Customer.name == 'Mary').\\\n",
    "        one()\n",
    "mary"
   ]
  },
  {
   "cell_type": "code",
   "execution_count": 58,
   "metadata": {},
   "outputs": [
    {
     "data": {
      "text/plain": [
       "[<Invoice(invno=123, amount=500, custid=5)>,\n",
       " <Invoice(invno=273, amount=1000, custid=5)>]"
      ]
     },
     "execution_count": 58,
     "metadata": {},
     "output_type": "execute_result"
    }
   ],
   "source": [
    "mary.invoices"
   ]
  },
  {
   "cell_type": "markdown",
   "metadata": {},
   "source": [
    "### Delete Records"
   ]
  },
  {
   "cell_type": "code",
   "execution_count": 59,
   "metadata": {},
   "outputs": [
    {
     "name": "stdout",
     "output_type": "stream",
     "text": [
      "2019-03-25 19:45:26,216 INFO sqlalchemy.engine.base.Engine UPDATE invoices SET custid=? WHERE invoices.id = ?\n",
      "2019-03-25 19:45:26,217 INFO sqlalchemy.engine.base.Engine ((None, 1), (None, 2))\n",
      "2019-03-25 19:45:26,218 INFO sqlalchemy.engine.base.Engine DELETE FROM customers WHERE customers.id = ?\n",
      "2019-03-25 19:45:26,218 INFO sqlalchemy.engine.base.Engine (5,)\n",
      "2019-03-25 19:45:26,219 INFO sqlalchemy.engine.base.Engine SELECT count(*) AS count_1 \n",
      "FROM (SELECT customers.id AS customers_id, customers.name AS customers_name, customers.address AS customers_address, customers.email AS customers_email \n",
      "FROM customers \n",
      "WHERE customers.name = ?) AS anon_1\n",
      "2019-03-25 19:45:26,220 INFO sqlalchemy.engine.base.Engine ('Mary',)\n"
     ]
    },
    {
     "data": {
      "text/plain": [
       "0"
      ]
     },
     "execution_count": 59,
     "metadata": {},
     "output_type": "execute_result"
    }
   ],
   "source": [
    "session.delete(mary)\n",
    "session.query(Customer).filter_by(name='Mary').count()"
   ]
  },
  {
   "cell_type": "code",
   "execution_count": 60,
   "metadata": {},
   "outputs": [
    {
     "name": "stdout",
     "output_type": "stream",
     "text": [
      "2019-03-25 19:45:26,226 INFO sqlalchemy.engine.base.Engine SELECT count(*) AS count_1 \n",
      "FROM (SELECT invoices.id AS invoices_id, invoices.invno AS invoices_invno, invoices.amount AS invoices_amount, invoices.custid AS invoices_custid \n",
      "FROM invoices) AS anon_1\n",
      "2019-03-25 19:45:26,228 INFO sqlalchemy.engine.base.Engine ()\n"
     ]
    },
    {
     "data": {
      "text/plain": [
       "2"
      ]
     },
     "execution_count": 60,
     "metadata": {},
     "output_type": "execute_result"
    }
   ],
   "source": [
    "session.query(Invoice).count()"
   ]
  },
  {
   "cell_type": "code",
   "execution_count": 61,
   "metadata": {},
   "outputs": [
    {
     "name": "stdout",
     "output_type": "stream",
     "text": [
      "2019-03-25 19:45:26,232 INFO sqlalchemy.engine.base.Engine ROLLBACK\n"
     ]
    }
   ],
   "source": [
    "session.close()"
   ]
  },
  {
   "cell_type": "code",
   "execution_count": 62,
   "metadata": {},
   "outputs": [],
   "source": [
    "Base = declarative_base()\n",
    "\n",
    "class Customer(Base):\n",
    "    __tablename__ = 'customers'\n",
    "    id = Column(Integer, primary_key = True)\n",
    "    name = Column(String)\n",
    "    address = Column(String)\n",
    "    email = Column(String)\n",
    "    invoices = relationship(\"Invoice\", back_populates='customer',\\\n",
    "                            cascade=\"all, delete, delete-orphan\")\n",
    "\n",
    "    def __repr__(self):\n",
    "        return \"<Customer(name={}, addr={}, email={})>\".format(self.name, self.address, self.email)\n",
    "\n",
    "class Invoice(Base):\n",
    "    __tablename__ = 'invoices'\n",
    "    id = Column(Integer, primary_key = True)\n",
    "    invno = Column(Integer)\n",
    "    amount = Column(Integer)\n",
    "    custid = Column(Integer, ForeignKey('customers.id'))\n",
    "    customer = relationship(\"Customer\", back_populates = \"invoices\")\n",
    "    \n",
    "    def __repr__(self):\n",
    "        return \"<Invoice(invno={}, amount={}, custid={})>\".format(self.invno, self.amount, self.custid)"
   ]
  },
  {
   "cell_type": "code",
   "execution_count": 63,
   "metadata": {},
   "outputs": [
    {
     "name": "stdout",
     "output_type": "stream",
     "text": [
      "2019-03-25 19:45:26,247 INFO sqlalchemy.engine.base.Engine BEGIN (implicit)\n",
      "2019-03-25 19:45:26,248 INFO sqlalchemy.engine.base.Engine SELECT customers.id AS customers_id, customers.name AS customers_name, customers.address AS customers_address, customers.email AS customers_email \n",
      "FROM customers \n",
      "WHERE customers.name = ?\n",
      "2019-03-25 19:45:26,249 INFO sqlalchemy.engine.base.Engine ('Mary',)\n"
     ]
    },
    {
     "data": {
      "text/plain": [
       "<Customer(name=Mary, addr=21 North Street, email=mary@gmail.com)>"
      ]
     },
     "execution_count": 63,
     "metadata": {},
     "output_type": "execute_result"
    }
   ],
   "source": [
    "mary = session.query(Customer).filter_by(name='Mary').one()\n",
    "mary"
   ]
  },
  {
   "cell_type": "code",
   "execution_count": 64,
   "metadata": {},
   "outputs": [
    {
     "name": "stdout",
     "output_type": "stream",
     "text": [
      "2019-03-25 19:45:26,254 INFO sqlalchemy.engine.base.Engine SELECT invoices.id AS invoices_id, invoices.invno AS invoices_invno, invoices.amount AS invoices_amount, invoices.custid AS invoices_custid \n",
      "FROM invoices \n",
      "WHERE ? = invoices.custid\n",
      "2019-03-25 19:45:26,255 INFO sqlalchemy.engine.base.Engine (5,)\n"
     ]
    }
   ],
   "source": [
    "session.delete(mary)"
   ]
  },
  {
   "cell_type": "code",
   "execution_count": 65,
   "metadata": {},
   "outputs": [
    {
     "name": "stdout",
     "output_type": "stream",
     "text": [
      "2019-03-25 19:45:26,262 INFO sqlalchemy.engine.base.Engine DELETE FROM invoices WHERE invoices.id = ?\n",
      "2019-03-25 19:45:26,262 INFO sqlalchemy.engine.base.Engine ((1,), (2,))\n",
      "2019-03-25 19:45:26,264 INFO sqlalchemy.engine.base.Engine DELETE FROM customers WHERE customers.id = ?\n",
      "2019-03-25 19:45:26,264 INFO sqlalchemy.engine.base.Engine (5,)\n",
      "2019-03-25 19:45:26,266 INFO sqlalchemy.engine.base.Engine SELECT count(*) AS count_1 \n",
      "FROM (SELECT customers.id AS customers_id, customers.name AS customers_name, customers.address AS customers_address, customers.email AS customers_email \n",
      "FROM customers \n",
      "WHERE customers.name = ?) AS anon_1\n",
      "2019-03-25 19:45:26,267 INFO sqlalchemy.engine.base.Engine ('Mary',)\n",
      "0\n",
      "2019-03-25 19:45:26,269 INFO sqlalchemy.engine.base.Engine SELECT count(*) AS count_1 \n",
      "FROM (SELECT invoices.id AS invoices_id, invoices.invno AS invoices_invno, invoices.amount AS invoices_amount, invoices.custid AS invoices_custid \n",
      "FROM invoices) AS anon_1\n",
      "2019-03-25 19:45:26,269 INFO sqlalchemy.engine.base.Engine ()\n",
      "0\n"
     ]
    }
   ],
   "source": [
    "print(session.query(Customer).filter_by(name='Mary').count())\n",
    "print(session.query(Invoice).count())"
   ]
  },
  {
   "cell_type": "code",
   "execution_count": 66,
   "metadata": {},
   "outputs": [
    {
     "name": "stdout",
     "output_type": "stream",
     "text": [
      "2019-03-25 19:45:26,274 INFO sqlalchemy.engine.base.Engine ROLLBACK\n"
     ]
    }
   ],
   "source": [
    "session.close()"
   ]
  },
  {
   "cell_type": "markdown",
   "metadata": {},
   "source": [
    "### Drop Table"
   ]
  },
  {
   "cell_type": "code",
   "execution_count": 67,
   "metadata": {},
   "outputs": [
    {
     "name": "stdout",
     "output_type": "stream",
     "text": [
      "2019-03-25 19:45:26,279 INFO sqlalchemy.engine.base.Engine SELECT name FROM sqlite_master WHERE type='table' ORDER BY name\n",
      "2019-03-25 19:45:26,280 INFO sqlalchemy.engine.base.Engine ()\n"
     ]
    },
    {
     "data": {
      "text/plain": [
       "['customers', 'invoices']"
      ]
     },
     "execution_count": 67,
     "metadata": {},
     "output_type": "execute_result"
    }
   ],
   "source": [
    "engine.table_names()"
   ]
  },
  {
   "cell_type": "code",
   "execution_count": 68,
   "metadata": {},
   "outputs": [
    {
     "name": "stdout",
     "output_type": "stream",
     "text": [
      "2019-03-25 19:45:26,288 INFO sqlalchemy.engine.base.Engine \n",
      "DROP TABLE customers\n",
      "2019-03-25 19:45:26,289 INFO sqlalchemy.engine.base.Engine ()\n",
      "2019-03-25 19:45:26,292 INFO sqlalchemy.engine.base.Engine COMMIT\n",
      "2019-03-25 19:45:26,292 INFO sqlalchemy.engine.base.Engine \n",
      "DROP TABLE invoices\n",
      "2019-03-25 19:45:26,293 INFO sqlalchemy.engine.base.Engine ()\n",
      "2019-03-25 19:45:26,295 INFO sqlalchemy.engine.base.Engine COMMIT\n"
     ]
    }
   ],
   "source": [
    "Customer.__table__.drop(engine)\n",
    "Invoice.__table__.drop(engine)"
   ]
  },
  {
   "cell_type": "code",
   "execution_count": 69,
   "metadata": {},
   "outputs": [
    {
     "name": "stdout",
     "output_type": "stream",
     "text": [
      "2019-03-25 19:45:26,300 INFO sqlalchemy.engine.base.Engine SELECT name FROM sqlite_master WHERE type='table' ORDER BY name\n",
      "2019-03-25 19:45:26,301 INFO sqlalchemy.engine.base.Engine ()\n"
     ]
    },
    {
     "data": {
      "text/plain": [
       "[]"
      ]
     },
     "execution_count": 69,
     "metadata": {},
     "output_type": "execute_result"
    }
   ],
   "source": [
    "engine.table_names()"
   ]
  },
  {
   "cell_type": "code",
   "execution_count": null,
   "metadata": {},
   "outputs": [],
   "source": []
  }
 ],
 "metadata": {
  "kernelspec": {
   "display_name": "Python 3",
   "language": "python",
   "name": "python3"
  },
  "language_info": {
   "codemirror_mode": {
    "name": "ipython",
    "version": 3
   },
   "file_extension": ".py",
   "mimetype": "text/x-python",
   "name": "python",
   "nbconvert_exporter": "python",
   "pygments_lexer": "ipython3",
   "version": "3.7.1"
  }
 },
 "nbformat": 4,
 "nbformat_minor": 2
}
