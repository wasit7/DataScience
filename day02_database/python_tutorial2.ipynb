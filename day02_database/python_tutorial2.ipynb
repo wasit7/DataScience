{
 "cells": [
  {
   "cell_type": "markdown",
   "metadata": {},
   "source": [
    "<a name=\"top\"></a>\n",
    "# Python Workshop 2\n",
    "To help you deal with complex codes, Python allows you to bundle codes together to make your code more organized and improve code reusability. There are three main levels of doing this:\n",
    "1. [Function](#function)\n",
    "2. [Class](#class)\n",
    "3. [Module](#module)\n",
    "\n",
    "At the end, we will look at [NumPy](#numpy), which is one of the most popular package for data analysts these days.\n",
    "\n",
    "<a name=\"function\"></a>\n",
    "## 1. Function\n",
    "A function is a section of program that performs a specific task. To use functions, **define** then **call** them. Python uses indentation to indicate the section."
   ]
  },
  {
   "cell_type": "code",
   "execution_count": 1,
   "metadata": {},
   "outputs": [
    {
     "name": "stdout",
     "output_type": "stream",
     "text": [
      "Speak\n",
      "hi\n",
      "Yo!\n"
     ]
    }
   ],
   "source": [
    "def speak():\n",
    "    print(\"Speak\")\n",
    "    print(\"hi\")\n",
    "    print(\"Yo!\")\n",
    "\n",
    "speak()"
   ]
  },
  {
   "cell_type": "markdown",
   "metadata": {},
   "source": [
    "### Parameters and Arguments\n",
    "You can pass data to a function but you must specify them in the function definition. These input(s) are called **parameters**. When we call a function that requires parameter(s), we must provide input values/variables, called **arguments**."
   ]
  },
  {
   "cell_type": "code",
   "execution_count": 2,
   "metadata": {},
   "outputs": [
    {
     "name": "stdin",
     "output_type": "stream",
     "text": [
      "Name  Yoyo\n"
     ]
    },
    {
     "name": "stdout",
     "output_type": "stream",
     "text": [
      "Hello! Yoyo\n"
     ]
    }
   ],
   "source": [
    "def speak(name):\n",
    "    print(\"Hello!\", name)\n",
    "\n",
    "name = input(\"Name \")\n",
    "speak(name)"
   ]
  },
  {
   "cell_type": "code",
   "execution_count": 3,
   "metadata": {},
   "outputs": [
    {
     "name": "stdout",
     "output_type": "stream",
     "text": [
      "Hello! John Doe\n"
     ]
    }
   ],
   "source": [
    "def speak(name = 'John Doe'):\n",
    "    print(\"Hello!\", name)\n",
    "\n",
    "speak()"
   ]
  },
  {
   "cell_type": "markdown",
   "metadata": {},
   "source": [
    "### Return Values\n",
    "Functions can also send back results using `return` statement."
   ]
  },
  {
   "cell_type": "code",
   "execution_count": 4,
   "metadata": {},
   "outputs": [
    {
     "name": "stdin",
     "output_type": "stream",
     "text": [
      "input a number to sum :  5\n",
      "input b number to sum :  7\n"
     ]
    },
    {
     "name": "stdout",
     "output_type": "stream",
     "text": [
      "summation is :  12\n"
     ]
    }
   ],
   "source": [
    "def sum(a,b):\n",
    "    summation = a+b\n",
    "    return summation\n",
    "\n",
    "a = int(input(\"input a number to sum : \"))\n",
    "b = int(input(\"input b number to sum : \"))\n",
    "\n",
    "summation = sum(a,b)\n",
    "print(\"summation is : \",summation)"
   ]
  },
  {
   "cell_type": "markdown",
   "metadata": {},
   "source": [
    "[[top](#top)]"
   ]
  },
  {
   "cell_type": "markdown",
   "metadata": {},
   "source": [
    "<a name=\"class\"></a>\n",
    "## 2. Class\n",
    "Class allows you to bundle both variables and functions into a self-contained reusable unit. It helps us tackle problems at the abstract level by a) treating any component relevant to the problem as an object; and b) representing any relationship through a function.\n",
    "\n",
    "First we must define a **class**, which is like a blueprint of a thing using `class` keyword: "
   ]
  },
  {
   "cell_type": "code",
   "execution_count": 5,
   "metadata": {},
   "outputs": [],
   "source": [
    "class Employee:\n",
    "    def __init__(self, name, dept, salary=1000):\n",
    "        self.name = name\n",
    "        self.dept = dept\n",
    "        self.salary = salary\n",
    "    \n",
    "    def show_record(self):\n",
    "        print('Name: {}\\nDepartment: {}\\nSalary: {}$'\n",
    "                .format(self.name, self.dept, self.salary))"
   ]
  },
  {
   "cell_type": "markdown",
   "metadata": {},
   "source": [
    "Then, we must create an instance of a class, called **object**."
   ]
  },
  {
   "cell_type": "code",
   "execution_count": 6,
   "metadata": {},
   "outputs": [
    {
     "name": "stdout",
     "output_type": "stream",
     "text": [
      "Name: Sarun Gulyanon\n",
      "Department: Sales\n",
      "Salary: 1000$\n"
     ]
    }
   ],
   "source": [
    "mrA = Employee('Sarun Gulyanon', 'Sales')\n",
    "mrA.show_record()"
   ]
  },
  {
   "cell_type": "markdown",
   "metadata": {},
   "source": [
    "`__init__` function is a constructor. It defines how to create an object. `self` variable represents the instance of the object itself. We can access variables or functions belonging to a class (called \"attributes\") using this expression: `obj.name`."
   ]
  },
  {
   "cell_type": "markdown",
   "metadata": {},
   "source": [
    "[[top](#top)]"
   ]
  },
  {
   "cell_type": "markdown",
   "metadata": {},
   "source": [
    "<a name=\"module\"></a>\n",
    "## 3. Module\n",
    "A module is like a code library. Functions and Classes bundles codes within the same file but Modules separate codes into different files for better organization and reusability. There are 3 types of modules:\n",
    "1. [Built-in module](#builtin)\n",
    "2. [Customized module](#customized)\n",
    "3. [External module](#external)"
   ]
  },
  {
   "cell_type": "markdown",
   "metadata": {},
   "source": [
    "<a name=\"builtin\"></a>\n",
    "### 3.1. Built-in Module\n",
    "Built-in module or Python standard library is very extensive, offering a wide range of facilities, and it makes Python powerful ([full list of Python standard library](https://docs.python.org/3/library/)).\n",
    "\n",
    "To call functions in modules, first we must `import` the module. Then, call it using both module and function names."
   ]
  },
  {
   "cell_type": "code",
   "execution_count": 7,
   "metadata": {},
   "outputs": [
    {
     "name": "stdout",
     "output_type": "stream",
     "text": [
      "/home/sarun/Desktop/a.txt\n"
     ]
    }
   ],
   "source": [
    "import os\n",
    "#folder = 'C:\\\\users\\sarun\\Desktop'  # for linux\n",
    "folder = '/home/sarun/Desktop'  # for linux\n",
    "file = 'a.txt'\n",
    "print(os.path.join(folder, file))"
   ]
  },
  {
   "cell_type": "markdown",
   "metadata": {},
   "source": [
    "You can import only specific things using `from` statement."
   ]
  },
  {
   "cell_type": "code",
   "execution_count": 8,
   "metadata": {},
   "outputs": [
    {
     "name": "stdout",
     "output_type": "stream",
     "text": [
      "Current Directory is /home/sarung/Desktop/datascience/day02_database\n"
     ]
    }
   ],
   "source": [
    "from os import getcwd\n",
    "print('Current Directory is {}'.format(getcwd()))"
   ]
  },
  {
   "cell_type": "markdown",
   "metadata": {},
   "source": [
    "<a name=\"customized\"></a>\n",
    "### 3.2. Customized Module\n",
    "You can build your own module as well. Just save your functions and/or classes (or even variables) in a module (a file with `.py` extension containing function and/or class definitions). Then, import it using the filename (make sure you put your codes/scripts and your module in the same folder)."
   ]
  },
  {
   "cell_type": "code",
   "execution_count": 9,
   "metadata": {},
   "outputs": [
    {
     "name": "stdout",
     "output_type": "stream",
     "text": [
      "6\n"
     ]
    }
   ],
   "source": [
    "import mymodule\n",
    "print(mymodule.mul(2,3))"
   ]
  },
  {
   "cell_type": "markdown",
   "metadata": {},
   "source": [
    "### Naming a Module\n",
    "You can create an alias when you import a module for easy access by using the `as` keyword."
   ]
  },
  {
   "cell_type": "code",
   "execution_count": 10,
   "metadata": {},
   "outputs": [
    {
     "name": "stdout",
     "output_type": "stream",
     "text": [
      "Hi! Yoyo\n",
      "12\n"
     ]
    }
   ],
   "source": [
    "import mycode.myfile as mm\n",
    "from mymodule import mul as mu\n",
    "mm.greeting('Yoyo')\n",
    "print(mu(3,4))"
   ]
  },
  {
   "cell_type": "markdown",
   "metadata": {},
   "source": [
    "You can bundle a collection of modules into a \"package\" by putting modules in a folder. In Python 2 or < 3.3, we must create an empty file called `__init__.py` in every folder you import from. Python 3.3+ has [Implicit Namespace Packages](https://www.python.org/dev/peps/pep-0420/) that allow it to create a packages without an `__init__.py` file.\n",
    "\n"
   ]
  },
  {
   "cell_type": "markdown",
   "metadata": {},
   "source": [
    "<a name=\"external\"></a>\n",
    "### 3.3. External Module\n",
    "These modules are created by the third party and you are allowed to use them as long as you comply with their license. Some of them can be installed easily through the package manager like [pip](https://packaging.python.org/tutorials/installing-packages/) or [conda](https://docs.conda.io/projects/conda/en/latest/user-guide/tasks/manage-pkgs.html). Here we will look at two important modules for data analytics:\n",
    "\n",
    "1. [NumPy](http://www.numpy.org/) is the fundamental package for scientific computing \n",
    "2. [Pandas](https://pandas.pydata.org/) provides high-performance, easy-to-use data structures and data analysis tools."
   ]
  },
  {
   "cell_type": "markdown",
   "metadata": {},
   "source": [
    "[[top](#top)]"
   ]
  },
  {
   "cell_type": "markdown",
   "metadata": {},
   "source": [
    "-----\n",
    "<a name=\"numpy\"></a>\n",
    "## NumPy\n",
    "NumPy’s main object is the homogeneous multidimensional array (a N-dimensional hypervolume whose elements, usually numbers, are all of the same type). NumPy’s array class is called `ndarray`. Here we will cover:\n",
    "* Array Creation\n",
    "* Basic Operations\n",
    "* Indexing, Slicing and Iterating\n",
    "* Shape Manipulation\n",
    "* Copies\n",
    "\n",
    "More details [here](https://docs.scipy.org/doc/numpy-1.15.1/user/quickstart.html).\n",
    "\n",
    "### Array Creation\n",
    "First, we need to create the `ndarray`. There are several ways to create arrays."
   ]
  },
  {
   "cell_type": "code",
   "execution_count": 11,
   "metadata": {},
   "outputs": [
    {
     "name": "stdout",
     "output_type": "stream",
     "text": [
      "a=[2 3 4]\n",
      "type=<class 'numpy.ndarray'>\n",
      "b= [1.2 3.5 5.1]\n",
      "c= [[0. 0. 0. 0.]\n",
      " [0. 0. 0. 0.]]\n",
      "d= [[[1. 1. 1. 1.]\n",
      "  [1. 1. 1. 1.]\n",
      "  [1. 1. 1. 1.]]\n",
      "\n",
      " [[1. 1. 1. 1.]\n",
      "  [1. 1. 1. 1.]\n",
      "  [1. 1. 1. 1.]]]\n",
      "e= [[5.95525570e+228 9.40039426e-154 1.23475616e-259]\n",
      " [3.68777421e+180 4.47593816e-091 7.13637443e+159]]\n"
     ]
    }
   ],
   "source": [
    "import numpy as np\n",
    "a = np.array([2,3,4])\n",
    "print('a={}\\ntype={}'.format(a, type(a)))\n",
    "b = np.array([1.2, 3.5, 5.1])\n",
    "print('b=',b)\n",
    "c = np.zeros((2,4))\n",
    "print('c=',c)\n",
    "d = np.ones((2,3,4))\n",
    "print('d=',d)\n",
    "e = np.empty((2,3))\n",
    "print('e=',e)"
   ]
  },
  {
   "cell_type": "markdown",
   "metadata": {},
   "source": [
    "Notice how NumPy displays array (in NumPy dimensions are called axes):\n",
    "* The last axis is printed from left to right,\n",
    "* The second-to-last is printed from top to bottom,\n",
    "* The rest are also printed from top to bottom, with each slice separated from the next by an empty line.\n",
    "\n",
    "You can create sequences of numbers as well"
   ]
  },
  {
   "cell_type": "code",
   "execution_count": 12,
   "metadata": {},
   "outputs": [
    {
     "name": "stdout",
     "output_type": "stream",
     "text": [
      "arange= [10 15 20 25]\n",
      "linspace= [0.   0.25 0.5  0.75 1.   1.25 1.5  1.75 2.  ]\n",
      "random= [[0.25775132 0.5618098  0.18777053 0.4303184 ]\n",
      " [0.51306857 0.15371667 0.90919544 0.67974337]\n",
      " [0.90938036 0.68866324 0.72536581 0.82115209]]\n"
     ]
    }
   ],
   "source": [
    "f = np.arange(10, 30, 5)\n",
    "print('arange=', f)\n",
    "g = np.linspace(0, 2, 9)\n",
    "print('linspace=', g)\n",
    "h = np.random.random((3,4))\n",
    "print('random=', h)"
   ]
  },
  {
   "cell_type": "markdown",
   "metadata": {},
   "source": [
    "`ndarray` has a number of attributes."
   ]
  },
  {
   "cell_type": "code",
   "execution_count": 13,
   "metadata": {},
   "outputs": [
    {
     "name": "stdout",
     "output_type": "stream",
     "text": [
      "a= [2 3 4]\n",
      "a.ndim= 1\n",
      "a.shape= (3,)\n",
      "a.size= 3\n",
      "a.dtype= int64\n"
     ]
    }
   ],
   "source": [
    "print('a=',a)\n",
    "print('a.ndim=',a.ndim)\n",
    "print('a.shape=',a.shape)\n",
    "print('a.size=',a.size)\n",
    "print('a.dtype=',a.dtype)"
   ]
  },
  {
   "cell_type": "markdown",
   "metadata": {},
   "source": [
    "### Basic Operations\n",
    "Arithmetic operators on arrays apply elementwise."
   ]
  },
  {
   "cell_type": "code",
   "execution_count": 14,
   "metadata": {},
   "outputs": [
    {
     "name": "stdout",
     "output_type": "stream",
     "text": [
      "a= [2 3 4]\n",
      "b= [1.2 3.5 5.1]\n",
      "a-b= [ 0.8 -0.5 -1.1]\n"
     ]
    }
   ],
   "source": [
    "print('a=',a)\n",
    "print('b=',b)\n",
    "print('a-b=',a-b)"
   ]
  },
  {
   "cell_type": "code",
   "execution_count": 15,
   "metadata": {},
   "outputs": [
    {
     "name": "stdout",
     "output_type": "stream",
     "text": [
      "[ 4  9 16]\n",
      "[1.41421356 1.73205081 2.        ]\n",
      "[False  True  True]\n"
     ]
    }
   ],
   "source": [
    "print(a**2)\n",
    "print(np.sqrt(a))\n",
    "print(b>3)"
   ]
  },
  {
   "cell_type": "markdown",
   "metadata": {},
   "source": [
    "Many unary operations, such as the sum of all the elements in the array, are implemented as methods of the `ndarray` class."
   ]
  },
  {
   "cell_type": "code",
   "execution_count": 16,
   "metadata": {},
   "outputs": [
    {
     "name": "stdout",
     "output_type": "stream",
     "text": [
      "9\n",
      "3.0\n",
      "0.816496580927726\n",
      "2 4\n"
     ]
    }
   ],
   "source": [
    "print(a.sum())\n",
    "print(a.mean())\n",
    "print(a.std())\n",
    "print(a.min(), a.max())"
   ]
  },
  {
   "cell_type": "markdown",
   "metadata": {},
   "source": [
    "### Indexing, Slicing and Iterating\n",
    "**Indexing** and **slicing** are similar to list. Multidimensional arrays can have one index per axis. These indices are given in a tuple separated by commas:"
   ]
  },
  {
   "cell_type": "code",
   "execution_count": 17,
   "metadata": {},
   "outputs": [
    {
     "name": "stdout",
     "output_type": "stream",
     "text": [
      "a= [2 3 4]\n",
      "a[1]= 3\n",
      "a[1:]= [3 4]\n"
     ]
    }
   ],
   "source": [
    "print('a=',a)\n",
    "print('a[1]=',a[1])\n",
    "print('a[1:]=',a[1:])"
   ]
  },
  {
   "cell_type": "code",
   "execution_count": 18,
   "metadata": {},
   "outputs": [
    {
     "name": "stdout",
     "output_type": "stream",
     "text": [
      "e= [[5.95525570e+228 9.40039426e-154 1.23475616e-259]\n",
      " [3.68777421e+180 4.47593816e-091 7.13637443e+159]]\n",
      "e[0,1]= 9.400394261596198e-154\n",
      "e[:,1]= [9.40039426e-154 4.47593816e-091]\n",
      "e[0,0:2]= [5.95525570e+228 9.40039426e-154]\n"
     ]
    }
   ],
   "source": [
    "print('e=',e)\n",
    "print('e[0,1]=',e[0,1])\n",
    "print('e[:,1]=',e[:,1])\n",
    "print('e[0,0:2]=',e[0,0:2])"
   ]
  },
  {
   "cell_type": "markdown",
   "metadata": {},
   "source": [
    "When fewer indices are provided than the number of axes, the missing indices are considered complete slices."
   ]
  },
  {
   "cell_type": "code",
   "execution_count": 19,
   "metadata": {},
   "outputs": [
    {
     "name": "stdout",
     "output_type": "stream",
     "text": [
      "d= [[[1. 1. 1. 1.]\n",
      "  [1. 1. 1. 1.]\n",
      "  [1. 1. 1. 1.]]\n",
      "\n",
      " [[1. 1. 1. 1.]\n",
      "  [1. 1. 1. 1.]\n",
      "  [1. 1. 1. 1.]]]\n",
      "d[1]= [[1. 1. 1. 1.]\n",
      " [1. 1. 1. 1.]\n",
      " [1. 1. 1. 1.]]\n",
      "d[...,3]= [[1. 1. 1.]\n",
      " [1. 1. 1.]]\n"
     ]
    }
   ],
   "source": [
    "print('d=',d)\n",
    "print('d[1]=',d[1])\n",
    "print('d[...,3]=', d[...,3])"
   ]
  },
  {
   "cell_type": "markdown",
   "metadata": {},
   "source": [
    "**Iterating** over multidimensional arrays is done with respect to the first axis:"
   ]
  },
  {
   "cell_type": "code",
   "execution_count": 20,
   "metadata": {},
   "outputs": [
    {
     "name": "stdout",
     "output_type": "stream",
     "text": [
      "row= [5.95525570e+228 9.40039426e-154 1.23475616e-259]\n",
      "row= [3.68777421e+180 4.47593816e-091 7.13637443e+159]\n"
     ]
    }
   ],
   "source": [
    "for row in e:\n",
    "    print('row=',row)"
   ]
  },
  {
   "cell_type": "markdown",
   "metadata": {},
   "source": [
    "### Shape Manipulation\n",
    "You can change the shape of an array."
   ]
  },
  {
   "cell_type": "code",
   "execution_count": 21,
   "metadata": {},
   "outputs": [
    {
     "name": "stdout",
     "output_type": "stream",
     "text": [
      "h= [[0.25775132 0.5618098  0.18777053 0.4303184 ]\n",
      " [0.51306857 0.15371667 0.90919544 0.67974337]\n",
      " [0.90938036 0.68866324 0.72536581 0.82115209]]\n",
      "(3, 4)\n"
     ]
    }
   ],
   "source": [
    "print('h=',h)\n",
    "print(h.shape)"
   ]
  },
  {
   "cell_type": "code",
   "execution_count": 22,
   "metadata": {},
   "outputs": [
    {
     "name": "stdout",
     "output_type": "stream",
     "text": [
      "reshape= [[0.25775132 0.5618098 ]\n",
      " [0.18777053 0.4303184 ]\n",
      " [0.51306857 0.15371667]\n",
      " [0.90919544 0.67974337]\n",
      " [0.90938036 0.68866324]\n",
      " [0.72536581 0.82115209]]\n"
     ]
    }
   ],
   "source": [
    "print('reshape=',h.reshape(6,2))"
   ]
  },
  {
   "cell_type": "code",
   "execution_count": 23,
   "metadata": {},
   "outputs": [
    {
     "name": "stdout",
     "output_type": "stream",
     "text": [
      "transpose= [[0.25775132 0.51306857 0.90938036]\n",
      " [0.5618098  0.15371667 0.68866324]\n",
      " [0.18777053 0.90919544 0.72536581]\n",
      " [0.4303184  0.67974337 0.82115209]]\n"
     ]
    }
   ],
   "source": [
    "print('transpose=',h.T)"
   ]
  },
  {
   "cell_type": "markdown",
   "metadata": {},
   "source": [
    "### Copies\n",
    "**No Copy at All**: Simple assignments make no copy of array objects or of their data."
   ]
  },
  {
   "cell_type": "code",
   "execution_count": 24,
   "metadata": {},
   "outputs": [
    {
     "name": "stdout",
     "output_type": "stream",
     "text": [
      "a= [ 0  1  2  3  4  5  6  7  8  9 10 11]\n",
      "True\n",
      "a= [100   1   2   3   4   5   6   7   8   9  10  11]\n"
     ]
    }
   ],
   "source": [
    "a = np.arange(12)\n",
    "b = a\n",
    "print('a=',a)\n",
    "print(b is a)\n",
    "b[0] = 100\n",
    "print('a=',a)"
   ]
  },
  {
   "cell_type": "markdown",
   "metadata": {},
   "source": [
    "**Deep Copy**: The `copy` method makes a complete copy of the array and its data."
   ]
  },
  {
   "cell_type": "code",
   "execution_count": 25,
   "metadata": {},
   "outputs": [
    {
     "name": "stdout",
     "output_type": "stream",
     "text": [
      "False\n",
      "a= [100   1   2   3   4   5   6   7   8   9  10  11]\n",
      "d= [50  1  2  3  4  5  6  7  8  9 10 11]\n"
     ]
    }
   ],
   "source": [
    "d = a.copy()\n",
    "print(d is a)\n",
    "d[0] = 50\n",
    "print('a=',a)\n",
    "print('d=',d)"
   ]
  },
  {
   "cell_type": "markdown",
   "metadata": {},
   "source": [
    "[[top](#top)]"
   ]
  }
 ],
 "metadata": {
  "kernelspec": {
   "display_name": "Python 3",
   "language": "python",
   "name": "python3"
  },
  "language_info": {
   "codemirror_mode": {
    "name": "ipython",
    "version": 3
   },
   "file_extension": ".py",
   "mimetype": "text/x-python",
   "name": "python",
   "nbconvert_exporter": "python",
   "pygments_lexer": "ipython3",
   "version": "3.7.1"
  }
 },
 "nbformat": 4,
 "nbformat_minor": 2
}
