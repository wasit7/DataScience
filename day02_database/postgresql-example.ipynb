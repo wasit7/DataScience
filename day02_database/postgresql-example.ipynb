{
 "cells": [
  {
   "cell_type": "markdown",
   "metadata": {},
   "source": [
    "# PostgreSQL in Python using SQLAlchemy\n",
    "\n",
    "## The Old Way of Writing Database Code in Python\n",
    "We're going to use the library `sqlite3` to create a simple database with two tables **Person** and **Address** in the following design:\n",
    "\n",
    "![db_design](https://www.pythoncentral.io/wp-content/uploads/2013/04/SQLAlchemyPersonAddress.png)\n",
    "\n",
    "To create tables and insert data into tables, type:"
   ]
  },
  {
   "cell_type": "code",
   "execution_count": 1,
   "metadata": {},
   "outputs": [],
   "source": [
    "import sqlite3\n",
    "conn = sqlite3.connect('example.db')\n",
    " \n",
    "c = conn.cursor()\n",
    "c.execute('''\n",
    "          CREATE TABLE person\n",
    "          (id INTEGER PRIMARY KEY ASC, name varchar(250) NOT NULL)\n",
    "          ''')\n",
    "c.execute('''\n",
    "          CREATE TABLE address\n",
    "          (id INTEGER PRIMARY KEY ASC, street_name varchar(250), street_number varchar(250),\n",
    "           post_code varchar(250) NOT NULL, person_id INTEGER NOT NULL,\n",
    "           FOREIGN KEY(person_id) REFERENCES person(id))\n",
    "          ''')\n",
    " \n",
    "c.execute('''\n",
    "          INSERT INTO person VALUES(1, 'Sarun Gulyanon')\n",
    "          ''')\n",
    "c.execute('''\n",
    "          INSERT INTO address VALUES(1, 'Newington Road', '15', '12121', 1)\n",
    "          ''')\n",
    " \n",
    "conn.commit()\n",
    "conn.close()"
   ]
  },
  {
   "cell_type": "markdown",
   "metadata": {},
   "source": [
    "To retrieve data from databases, type:"
   ]
  },
  {
   "cell_type": "code",
   "execution_count": 2,
   "metadata": {},
   "outputs": [
    {
     "name": "stdout",
     "output_type": "stream",
     "text": [
      "[(1, 'Sarun Gulyanon')]\n",
      "[(1, 'Newington Road', '15', '12121', 1)]\n"
     ]
    }
   ],
   "source": [
    "conn = sqlite3.connect('example.db')\n",
    "c = conn.cursor()\n",
    "c.execute('SELECT * FROM person')\n",
    "print(c.fetchall())\n",
    "c.execute('SELECT * FROM address')\n",
    "print(c.fetchall())"
   ]
  },
  {
   "cell_type": "code",
   "execution_count": 3,
   "metadata": {},
   "outputs": [],
   "source": [
    "c.execute('DROP TABLE person')\n",
    "c.execute('DROP TABLE address')\n",
    "conn.close()"
   ]
  },
  {
   "cell_type": "markdown",
   "metadata": {},
   "source": [
    "----\n",
    "\n",
    "## Python's SQLAlchemy and Declarative\n",
    "There are three most important components in writing SQLAlchemy code:\n",
    "\n",
    "* A Table that represents a table in a database.\n",
    "* A mapper that maps a Python class to a table in a database.\n",
    "* A class object that defines how a database record maps to a normal Python object.\n",
    "\n",
    "Instead of having to write code for Table, mapper and the class object at different places, SQLAlchemy's declarative allows a Table, a mapper and a class object to be defined at once in one class definition.\n",
    "\n",
    "The following declarative definitions specify the same tables:"
   ]
  },
  {
   "cell_type": "code",
   "execution_count": 4,
   "metadata": {},
   "outputs": [
    {
     "name": "stdout",
     "output_type": "stream",
     "text": [
      "Requirement already satisfied: sqlalchemy in /home/sarung/anaconda3/lib/python3.7/site-packages (1.2.15)\n"
     ]
    }
   ],
   "source": [
    "!pip install sqlalchemy"
   ]
  },
  {
   "cell_type": "code",
   "execution_count": 5,
   "metadata": {},
   "outputs": [],
   "source": [
    "from sqlalchemy import Column, ForeignKey, Integer, String\n",
    "from sqlalchemy.ext.declarative import declarative_base\n",
    "from sqlalchemy.orm import relationship\n",
    "from sqlalchemy import create_engine\n",
    " \n",
    "Base = declarative_base()\n",
    " \n",
    "class Person(Base):\n",
    "    __tablename__ = 'person'\n",
    "    # Here we define columns for the table person\n",
    "    # Notice that each column is also a normal Python instance attribute.\n",
    "    id = Column(Integer, primary_key=True)\n",
    "    name = Column(String(250), nullable=False)\n",
    "    \n",
    "class Address(Base):\n",
    "    __tablename__ = 'address'\n",
    "    # Here we define columns for the table address.\n",
    "    # Notice that each column is also a normal Python instance attribute.\n",
    "    id = Column(Integer, primary_key=True)\n",
    "    street_name = Column(String(250))\n",
    "    street_number = Column(String(250))\n",
    "    post_code = Column(String(250), nullable=False)\n",
    "    person_id = Column(Integer, ForeignKey('person.id'))\n",
    "    person = relationship(Person)\n",
    "\n",
    "# Create an engine that stores data in the local directory's\n",
    "# sqlalchemy_example.db file.\n",
    "engine = create_engine('sqlite:///sqlalchemy_example.db')\n",
    " \n",
    "# Create all tables in the engine. This is equivalent to \"Create Table\"\n",
    "# statements in raw SQL.\n",
    "Base.metadata.create_all(engine)\n"
   ]
  },
  {
   "cell_type": "markdown",
   "metadata": {},
   "source": [
    "Add records into the database."
   ]
  },
  {
   "cell_type": "code",
   "execution_count": 6,
   "metadata": {},
   "outputs": [],
   "source": [
    "from sqlalchemy import create_engine\n",
    "from sqlalchemy.orm import sessionmaker\n",
    " \n",
    "engine = create_engine('sqlite:///sqlalchemy_example.db')\n",
    "# Bind the engine to the metadata of the Base class so that the\n",
    "# declaratives can be accessed through a DBSession instance\n",
    "Base.metadata.bind = engine\n",
    " \n",
    "DBSession = sessionmaker(bind=engine)\n",
    "# A DBSession() instance establishes all conversations with the database\n",
    "# and represents a \"staging zone\" for all the objects loaded into the\n",
    "# database session object. Any change made against the objects in the\n",
    "# session won't be persisted into the database until you call\n",
    "# session.commit(). If you're not happy about the changes, you can\n",
    "# revert all of them back to the last commit by calling\n",
    "# session.rollback()\n",
    "session = DBSession()\n",
    " \n",
    "# Insert a Person in the person table\n",
    "new_person = Person(name='John Doe')\n",
    "session.add(new_person)\n",
    "session.commit()\n",
    " \n",
    "# Insert an Address in the address table\n",
    "new_address = Address(street_name='North Street', street_number='21', \n",
    "                      post_code='46202', person=new_person)\n",
    "session.add(new_address)\n",
    "session.commit()"
   ]
  },
  {
   "cell_type": "markdown",
   "metadata": {},
   "source": [
    "To query, type:"
   ]
  },
  {
   "cell_type": "code",
   "execution_count": 7,
   "metadata": {},
   "outputs": [
    {
     "name": "stdout",
     "output_type": "stream",
     "text": [
      "[<__main__.Person object at 0x7f02e7c37160>, <__main__.Person object at 0x7f02e7c371d0>]\n",
      "John Doe\n",
      "[<__main__.Address object at 0x7f02e7c37da0>]\n",
      "<__main__.Address object at 0x7f02e7bc1048>\n",
      "1 North Street 21 46202 1\n"
     ]
    }
   ],
   "source": [
    "engine = create_engine('sqlite:///sqlalchemy_example.db')\n",
    "Base.metadata.bind = engine\n",
    "\n",
    "DBSession = sessionmaker()\n",
    "DBSession.bind = engine\n",
    "session = DBSession()\n",
    "# Make a query to find all Persons in the database\n",
    "print(session.query(Person).all())\n",
    "\n",
    "# Return the first Person from all Persons in the database\n",
    "person = session.query(Person).first()\n",
    "print(person.name)\n",
    "\n",
    "# Find all Address whose person field is pointing to the person object\n",
    "print(session.query(Address).filter(Address.person == person).all())\n",
    "\n",
    "# Retrieve one Address whose person field is point to the person object\n",
    "print(session.query(Address).filter(Address.person == person).one())\n",
    "\n",
    "address = session.query(Address).filter(Address.person == person).one()\n",
    "print(address.id, address.street_name, address.street_number, \n",
    "      address.post_code, address.person_id)"
   ]
  }
 ],
 "metadata": {
  "kernelspec": {
   "display_name": "Python 3",
   "language": "python",
   "name": "python3"
  },
  "language_info": {
   "codemirror_mode": {
    "name": "ipython",
    "version": 3
   },
   "file_extension": ".py",
   "mimetype": "text/x-python",
   "name": "python",
   "nbconvert_exporter": "python",
   "pygments_lexer": "ipython3",
   "version": "3.7.1"
  }
 },
 "nbformat": 4,
 "nbformat_minor": 2
}
